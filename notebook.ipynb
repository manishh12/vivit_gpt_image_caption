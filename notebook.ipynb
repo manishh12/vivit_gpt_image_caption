{
 "cells": [
  {
   "cell_type": "code",
   "execution_count": 1,
   "id": "50cd6778",
   "metadata": {
    "_cell_guid": "b1076dfc-b9ad-4769-8c92-a6c4dae69d19",
    "_uuid": "8f2839f25d086af736a60e9eeb907d3b93b6e0e5",
    "execution": {
     "iopub.execute_input": "2024-01-29T12:54:42.938978Z",
     "iopub.status.busy": "2024-01-29T12:54:42.938624Z",
     "iopub.status.idle": "2024-01-29T12:54:46.458290Z",
     "shell.execute_reply": "2024-01-29T12:54:46.457490Z"
    },
    "papermill": {
     "duration": 3.53331,
     "end_time": "2024-01-29T12:54:46.460641",
     "exception": false,
     "start_time": "2024-01-29T12:54:42.927331",
     "status": "completed"
    },
    "tags": []
   },
   "outputs": [],
   "source": [
    "import matplotlib.pyplot as plt\n",
    "import string\n",
    "import torch\n",
    "import torchvision\n",
    "from PIL import Image\n",
    "from torch import nn, Tensor\n",
    "from torchvision import transforms\n",
    "import os\n",
    "import math\n",
    "import unicodedata\n",
    "from copy import deepcopy\n",
    "import re\n",
    "import numpy as np\n",
    "from torch.nn import functional as F\n",
    "from tqdm import tqdm\n",
    "from torchvision import datasets, transforms\n",
    "from torch.utils.data import DataLoader, Dataset"
   ]
  },
  {
   "cell_type": "markdown",
   "id": "0c41f61a",
   "metadata": {
    "papermill": {
     "duration": 0.008571,
     "end_time": "2024-01-29T12:54:46.478242",
     "exception": false,
     "start_time": "2024-01-29T12:54:46.469671",
     "status": "completed"
    },
    "tags": []
   },
   "source": [
    "# ----------------------------- Data Loader ------------------------------"
   ]
  },
  {
   "cell_type": "code",
   "execution_count": 2,
   "id": "1a6096ad",
   "metadata": {
    "execution": {
     "iopub.execute_input": "2024-01-29T12:54:46.498249Z",
     "iopub.status.busy": "2024-01-29T12:54:46.497322Z",
     "iopub.status.idle": "2024-01-29T12:54:46.548674Z",
     "shell.execute_reply": "2024-01-29T12:54:46.547777Z"
    },
    "papermill": {
     "duration": 0.062924,
     "end_time": "2024-01-29T12:54:46.550609",
     "exception": false,
     "start_time": "2024-01-29T12:54:46.487685",
     "status": "completed"
    },
    "tags": []
   },
   "outputs": [
    {
     "data": {
      "text/plain": [
       "'cuda'"
      ]
     },
     "execution_count": 2,
     "metadata": {},
     "output_type": "execute_result"
    }
   ],
   "source": [
    "NUM_WORKERS = os.cpu_count()\n",
    "device = 'cuda' if torch.cuda.is_available() else 'cpu'\n",
    "device"
   ]
  },
  {
   "cell_type": "code",
   "execution_count": 3,
   "id": "3c2b5a04",
   "metadata": {
    "execution": {
     "iopub.execute_input": "2024-01-29T12:54:46.569975Z",
     "iopub.status.busy": "2024-01-29T12:54:46.569630Z",
     "iopub.status.idle": "2024-01-29T12:54:46.575805Z",
     "shell.execute_reply": "2024-01-29T12:54:46.574950Z"
    },
    "papermill": {
     "duration": 0.01808,
     "end_time": "2024-01-29T12:54:46.577769",
     "exception": false,
     "start_time": "2024-01-29T12:54:46.559689",
     "status": "completed"
    },
    "tags": []
   },
   "outputs": [],
   "source": [
    "def unicodeToAscii(s):\n",
    "    return ''.join(\n",
    "        c for c in unicodedata.normalize('NFD', s)\n",
    "        if unicodedata.category(c) != 'Mn'\n",
    "    )\n",
    "\n",
    "def normalizeString(s):\n",
    "    s = unicodeToAscii(s.lower().strip())\n",
    "    s = re.sub(r\"([.!?])\", r\" \\1\", s)\n",
    "    s = re.sub(r\"[^a-zA-Z!?]+\", r\" \", s)\n",
    "    return s.strip()"
   ]
  },
  {
   "cell_type": "code",
   "execution_count": 4,
   "id": "8dbc35ee",
   "metadata": {
    "execution": {
     "iopub.execute_input": "2024-01-29T12:54:46.597441Z",
     "iopub.status.busy": "2024-01-29T12:54:46.596651Z",
     "iopub.status.idle": "2024-01-29T12:54:46.604172Z",
     "shell.execute_reply": "2024-01-29T12:54:46.603278Z"
    },
    "papermill": {
     "duration": 0.019424,
     "end_time": "2024-01-29T12:54:46.606128",
     "exception": false,
     "start_time": "2024-01-29T12:54:46.586704",
     "status": "completed"
    },
    "tags": []
   },
   "outputs": [],
   "source": [
    "SOS_token = \"SOS\"\n",
    "EOS_token = \"EOS\"\n",
    "PAD_token = \"PAD\"\n",
    "\n",
    "class Lang:\n",
    "    def __init__(self):\n",
    "        self.word2index = {\"SOS\": 0,\"EOS\":1,\"PAD\":2}\n",
    "        self.word2count = {\"SOS\": 1,\"EOS\":1,\"PAD\":1}\n",
    "        self.index2word = {0: \"SOS\", 1: \"EOS\",2:\"PAD\"}\n",
    "        self.n_words = 4\n",
    "    \n",
    "    def addSentence(self,sentence):\n",
    "        for word in sentence.split(' '):\n",
    "            self.addWord(word)\n",
    "    \n",
    "    def addWord(self,word):\n",
    "        if word not in self.word2index:\n",
    "            self.word2index[word] = self.n_words\n",
    "            self.word2count[word] = 1\n",
    "            self.index2word[self.n_words] = word\n",
    "            self.n_words += 1\n",
    "        else:\n",
    "            self.word2count[word] += 1"
   ]
  },
  {
   "cell_type": "code",
   "execution_count": 5,
   "id": "cd9b0478",
   "metadata": {
    "execution": {
     "iopub.execute_input": "2024-01-29T12:54:46.625461Z",
     "iopub.status.busy": "2024-01-29T12:54:46.624681Z",
     "iopub.status.idle": "2024-01-29T12:54:46.629208Z",
     "shell.execute_reply": "2024-01-29T12:54:46.628388Z"
    },
    "papermill": {
     "duration": 0.016535,
     "end_time": "2024-01-29T12:54:46.631550",
     "exception": false,
     "start_time": "2024-01-29T12:54:46.615015",
     "status": "completed"
    },
    "tags": []
   },
   "outputs": [],
   "source": [
    "IMG_SIZE = 224\n",
    "transform = transforms.Compose([\n",
    "    transforms.Resize((IMG_SIZE, IMG_SIZE)),\n",
    "    transforms.ToTensor(),\n",
    "])"
   ]
  },
  {
   "cell_type": "code",
   "execution_count": 6,
   "id": "31933926",
   "metadata": {
    "execution": {
     "iopub.execute_input": "2024-01-29T12:54:46.652166Z",
     "iopub.status.busy": "2024-01-29T12:54:46.651499Z",
     "iopub.status.idle": "2024-01-29T12:54:46.665433Z",
     "shell.execute_reply": "2024-01-29T12:54:46.664540Z"
    },
    "papermill": {
     "duration": 0.025555,
     "end_time": "2024-01-29T12:54:46.667357",
     "exception": false,
     "start_time": "2024-01-29T12:54:46.641802",
     "status": "completed"
    },
    "tags": []
   },
   "outputs": [],
   "source": [
    "class Data(Dataset):\n",
    "    def __init__(self,img_folder_path,caption_file):\n",
    "        super().__init__()\n",
    "        self.img_folder_path = img_folder_path\n",
    "        self.image_dir = os.listdir(self.img_folder_path)\n",
    "        self.caption_file = caption_file\n",
    "        with open(self.caption_file) as f:\n",
    "            self.lines = f.read().split('\\n')\n",
    "        self.lang = Lang()\n",
    "        self.pairs = []\n",
    "        self.seq_len = 0\n",
    "        for line in self.lines:\n",
    "            l = line.split('\\t')\n",
    "            if len(l) < 2:\n",
    "                continue\n",
    "            img_path = l[0][:-2]\n",
    "            if img_path not in self.image_dir:\n",
    "                continue\n",
    "            caption = l[1]\n",
    "            caption = normalizeString(caption)\n",
    "            if len(caption.split(' ')) > 10:\n",
    "                continue\n",
    "            self.pairs.append([caption,img_path])\n",
    "            self.lang.addSentence(caption)\n",
    "            self.seq_len = max(self.seq_len,len(caption.split(' ')))\n",
    "\n",
    "            \n",
    "        self.sos_token = torch.tensor([self.lang.word2index[SOS_token]],dtype=torch.int64)\n",
    "        self.eos_token = torch.tensor([self.lang.word2index[EOS_token]],dtype=torch.int64)\n",
    "        self.pad_token = torch.tensor([self.lang.word2index[PAD_token]],dtype=torch.int64)\n",
    "        self.seq_len += 2\n",
    "            \n",
    "    def __len__(self):\n",
    "        return len(self.pairs)\n",
    "    \n",
    "    def __getitem__(self,idx):\n",
    "        pair = self.pairs[idx]\n",
    "        img_name = pair[1]\n",
    "        caption = pair[0]\n",
    "        tokens = [self.lang.word2index[word] for word in caption.split(' ')]\n",
    "        num_pad = max(0,self.seq_len - len(tokens)- 2)\n",
    "        dec_input = torch.cat(\n",
    "            [\n",
    "                self.sos_token,\n",
    "                torch.tensor(tokens,dtype=torch.int64),\n",
    "                torch.tensor([self.pad_token]*num_pad,dtype=torch.int64),\n",
    "                self.eos_token\n",
    "            ],\n",
    "            dim = 0\n",
    "        )\n",
    "        \n",
    "#         label = torch.cat(\n",
    "#             [\n",
    "#                 torch.tensor(tokens,dtype=torch.int64),\n",
    "#                 self.eos_token,\n",
    "#                 torch.tensor([self.pad_token]*num_pad,dtype=torch.int64),\n",
    "#             ],\n",
    "#             dim = 0\n",
    "#         )\n",
    "        \n",
    "        img = Image.open(f'{self.img_folder_path}/{img_name}')\n",
    "        img = transform(img)\n",
    "        \n",
    "        return {\n",
    "            \"dec_input\":dec_input,\n",
    "            \"image\":img,\n",
    "        }\n",
    "        "
   ]
  },
  {
   "cell_type": "markdown",
   "id": "98ef1ee5",
   "metadata": {
    "papermill": {
     "duration": 0.008509,
     "end_time": "2024-01-29T12:54:46.684980",
     "exception": false,
     "start_time": "2024-01-29T12:54:46.676471",
     "status": "completed"
    },
    "tags": []
   },
   "source": [
    "# ------------------------- PATCH EMBEDDINGS ------------------------"
   ]
  },
  {
   "cell_type": "code",
   "execution_count": 7,
   "id": "48d68b50",
   "metadata": {
    "execution": {
     "iopub.execute_input": "2024-01-29T12:54:46.704243Z",
     "iopub.status.busy": "2024-01-29T12:54:46.703541Z",
     "iopub.status.idle": "2024-01-29T12:54:46.712989Z",
     "shell.execute_reply": "2024-01-29T12:54:46.712240Z"
    },
    "papermill": {
     "duration": 0.021328,
     "end_time": "2024-01-29T12:54:46.714993",
     "exception": false,
     "start_time": "2024-01-29T12:54:46.693665",
     "status": "completed"
    },
    "tags": []
   },
   "outputs": [],
   "source": [
    "class PatchEmbedding(nn.Module):\n",
    "\n",
    "    def __init__(self, encode_size:int, embed_dim:int):\n",
    "        super().__init__()\n",
    "\n",
    "        self.embed_dim = embed_dim\n",
    "        resnet = torchvision.models.resnet101(pretrained=True)\n",
    "        self.resnet = nn.Sequential(*list(resnet.children())[:-2])\n",
    "        self.downsampling = nn.Conv2d(in_channels=2048,\n",
    "                                      out_channels=embed_dim,\n",
    "                                      kernel_size=1,\n",
    "                                      stride=1,\n",
    "                                      bias=False)\n",
    "        self.bn = nn.BatchNorm2d(embed_dim)\n",
    "        self.relu = nn.ReLU(inplace=True)\n",
    "        self.adaptive_resize = nn.AdaptiveAvgPool2d(encode_size)\n",
    "\n",
    "    def forward(self, images: Tensor):\n",
    "        B = images.size()[0]\n",
    "        out = self.resnet(images)\n",
    "        out = self.relu(self.bn(self.downsampling(out)))\n",
    "        out = self.adaptive_resize(out)\n",
    "        out = out.view(B, self.embed_dim, -1).permute(0, 2, 1)\n",
    "        return out\n",
    "\n",
    "    def fine_tune(self, fine_tune=True):\n",
    "        for p in self.resnet.parameters():\n",
    "            p.requires_grad = False\n",
    "\n",
    "        for c in list(self.resnet.children())[5:]:\n",
    "            for p in c.parameters():\n",
    "                p.requires_grad = fine_tune"
   ]
  },
  {
   "cell_type": "markdown",
   "id": "e0dd57e3",
   "metadata": {
    "papermill": {
     "duration": 0.008682,
     "end_time": "2024-01-29T12:54:46.732487",
     "exception": false,
     "start_time": "2024-01-29T12:54:46.723805",
     "status": "completed"
    },
    "tags": []
   },
   "source": [
    "# ------------------------ Positional Encoding -------------------------"
   ]
  },
  {
   "cell_type": "code",
   "execution_count": 8,
   "id": "eebb86cc",
   "metadata": {
    "execution": {
     "iopub.execute_input": "2024-01-29T12:54:46.752089Z",
     "iopub.status.busy": "2024-01-29T12:54:46.751251Z",
     "iopub.status.idle": "2024-01-29T12:54:46.759273Z",
     "shell.execute_reply": "2024-01-29T12:54:46.758383Z"
    },
    "papermill": {
     "duration": 0.019772,
     "end_time": "2024-01-29T12:54:46.761177",
     "exception": false,
     "start_time": "2024-01-29T12:54:46.741405",
     "status": "completed"
    },
    "tags": []
   },
   "outputs": [],
   "source": [
    "class PositionalEncoding(nn.Module):\n",
    "    def __init__(self, embed_dim: int, max_len: int):\n",
    "        super().__init__()\n",
    "\n",
    "        self.embed_dim = embed_dim\n",
    "        pe = torch.zeros(max_len, embed_dim)\n",
    "        position = torch.arange(0, max_len, dtype=torch.float).unsqueeze(1)\n",
    "        div_term = torch.exp(\n",
    "            torch.arange(0, embed_dim, 2).float() *\n",
    "            (-math.log(10000.0) / embed_dim))\n",
    "        pe[:, 0::2] = torch.sin(position * div_term)\n",
    "        pe[:, 1::2] = torch.cos(position * div_term)\n",
    "        pe = pe.unsqueeze(0)\n",
    "        self.register_buffer(\"pe\", pe, persistent=False)\n",
    "\n",
    "    def forward(self, x: Tensor) -> Tensor:\n",
    "        x = x * math.sqrt(self.embed_dim)\n",
    "        x = x + self.pe[:, :x.size(1)]\n",
    "        return x"
   ]
  },
  {
   "cell_type": "code",
   "execution_count": null,
   "id": "4c45cdef",
   "metadata": {
    "papermill": {
     "duration": 0.008668,
     "end_time": "2024-01-29T12:54:46.778721",
     "exception": false,
     "start_time": "2024-01-29T12:54:46.770053",
     "status": "completed"
    },
    "tags": []
   },
   "outputs": [],
   "source": []
  },
  {
   "cell_type": "markdown",
   "id": "6a718bfc",
   "metadata": {
    "papermill": {
     "duration": 0.008571,
     "end_time": "2024-01-29T12:54:46.795990",
     "exception": false,
     "start_time": "2024-01-29T12:54:46.787419",
     "status": "completed"
    },
    "tags": []
   },
   "source": [
    "# ------------------------ Attention Mechanism -------------------------"
   ]
  },
  {
   "cell_type": "code",
   "execution_count": 9,
   "id": "942f8256",
   "metadata": {
    "execution": {
     "iopub.execute_input": "2024-01-29T12:54:46.814935Z",
     "iopub.status.busy": "2024-01-29T12:54:46.814606Z",
     "iopub.status.idle": "2024-01-29T12:54:46.827305Z",
     "shell.execute_reply": "2024-01-29T12:54:46.826406Z"
    },
    "papermill": {
     "duration": 0.024437,
     "end_time": "2024-01-29T12:54:46.829200",
     "exception": false,
     "start_time": "2024-01-29T12:54:46.804763",
     "status": "completed"
    },
    "tags": []
   },
   "outputs": [],
   "source": [
    "class Attention(nn.Module):\n",
    "    def __init__(self, embed_dim:int, heads:int, dropout:float):\n",
    "        super().__init__()\n",
    "        self.embed_dim = embed_dim\n",
    "        self.heads = heads\n",
    "        self.head_dim = embed_dim // heads\n",
    "        self.dropout = nn.Dropout(dropout)\n",
    "        assert (\n",
    "            self.head_dim * heads == embed_dim\n",
    "        ), \"Embedding size needs to be divisible by heads\"\n",
    "\n",
    "        self.values = nn.Linear(self.embed_dim, self.embed_dim, bias=False)\n",
    "        self.keys = nn.Linear(self.embed_dim, self.embed_dim, bias=False)\n",
    "        self.queries = nn.Linear(self.embed_dim, self.embed_dim, bias=False)\n",
    "        self.fc_out = nn.Linear(self.embed_dim, self.embed_dim,bias=False)\n",
    "    \n",
    "    def forward(self, query, keys, values, attn_mask = None,key_padding_mask = None):\n",
    "        N = query.shape[0]\n",
    "\n",
    "        value_len, key_len, query_len = values.shape[1], keys.shape[1], query.shape[1]\n",
    "        \n",
    "        values = self.values(values)\n",
    "        keys = self.keys(keys)\n",
    "        queries = self.queries(query)\n",
    "        \n",
    "        values = values.reshape(N, value_len, self.heads, self.head_dim)\n",
    "        keys = keys.reshape(N, key_len, self.heads, self.head_dim)\n",
    "        queries = queries.reshape(N, query_len, self.heads, self.head_dim)\n",
    "\n",
    "        energy = torch.einsum(\"nqhd,nkhd->nhqk\", [queries, keys])\n",
    "        \n",
    "        if attn_mask is None:\n",
    "            energy = energy / (self.embed_dim ** (1 / 2))\n",
    "        else:\n",
    "            energy = (energy + attn_mask) / (self.embed_dim ** (1 / 2))\n",
    "        #print(f\"Energy {energy.shape}\")\n",
    "        if key_padding_mask is None:\n",
    "            attention = torch.softmax(energy,dim=3)\n",
    "        else:\n",
    "            attention = torch.softmax(energy + key_padding_mask,dim=3)\n",
    "            \n",
    "        out = torch.einsum(\"nhql,nlhd->nqhd\", [attention, values]).reshape(\n",
    "            N, query_len, self.heads * self.head_dim\n",
    "        )\n",
    "        out = self.fc_out(out)\n",
    "        avg_attn = attention.sum(dim=1)\n",
    "        avg_attn /= self.heads\n",
    "        \n",
    "        return self.dropout(out),attention"
   ]
  },
  {
   "cell_type": "markdown",
   "id": "2a8b1b7b",
   "metadata": {
    "papermill": {
     "duration": 0.008604,
     "end_time": "2024-01-29T12:54:46.846548",
     "exception": false,
     "start_time": "2024-01-29T12:54:46.837944",
     "status": "completed"
    },
    "tags": []
   },
   "source": [
    "# ----------------------- CNN FEED-FORWARD -------------------------"
   ]
  },
  {
   "cell_type": "code",
   "execution_count": 10,
   "id": "fc33762b",
   "metadata": {
    "execution": {
     "iopub.execute_input": "2024-01-29T12:54:46.865131Z",
     "iopub.status.busy": "2024-01-29T12:54:46.864808Z",
     "iopub.status.idle": "2024-01-29T12:54:46.872143Z",
     "shell.execute_reply": "2024-01-29T12:54:46.871197Z"
    },
    "papermill": {
     "duration": 0.019065,
     "end_time": "2024-01-29T12:54:46.874197",
     "exception": false,
     "start_time": "2024-01-29T12:54:46.855132",
     "status": "completed"
    },
    "tags": []
   },
   "outputs": [],
   "source": [
    "class CNNFF(nn.Module):\n",
    "    def __init__(self,encode_size:int,embed_dim:int,feedforward_dim:int,dropout:float):\n",
    "        super().__init__()\n",
    "        self.conv1 = nn.Conv1d(in_channels=encode_size,\n",
    "                               out_channels=feedforward_dim,\n",
    "                               kernel_size=1)\n",
    "        self.conv2 = nn.Conv1d(in_channels=feedforward_dim,\n",
    "                               out_channels=encode_size,\n",
    "                               kernel_size=1)\n",
    "        self.relu = nn.ReLU(inplace=True)\n",
    "        self.dropout = nn.Dropout(p=dropout)\n",
    "        self.layer_norm = nn.LayerNorm(embed_dim)\n",
    "    \n",
    "    def forward(self,inputs:Tensor):\n",
    "        output = self.conv2(self.relu(self.conv1(inputs)))\n",
    "        output = self.dropout(output)\n",
    "        return self.layer_norm(output + inputs)"
   ]
  },
  {
   "cell_type": "markdown",
   "id": "707639b3",
   "metadata": {
    "papermill": {
     "duration": 0.008407,
     "end_time": "2024-01-29T12:54:46.891414",
     "exception": false,
     "start_time": "2024-01-29T12:54:46.883007",
     "status": "completed"
    },
    "tags": []
   },
   "source": [
    "# ------------------------------- Encoder -------------------------------"
   ]
  },
  {
   "cell_type": "code",
   "execution_count": 11,
   "id": "0e0902b1",
   "metadata": {
    "execution": {
     "iopub.execute_input": "2024-01-29T12:54:46.910619Z",
     "iopub.status.busy": "2024-01-29T12:54:46.910238Z",
     "iopub.status.idle": "2024-01-29T12:54:46.916452Z",
     "shell.execute_reply": "2024-01-29T12:54:46.915573Z"
    },
    "papermill": {
     "duration": 0.017976,
     "end_time": "2024-01-29T12:54:46.918385",
     "exception": false,
     "start_time": "2024-01-29T12:54:46.900409",
     "status": "completed"
    },
    "tags": []
   },
   "outputs": [],
   "source": [
    "class EncSelfAttention(nn.Module):\n",
    "    def __init__(self,embed_dim:int,num_heads:int,dropout:float):\n",
    "        super().__init__()\n",
    "        \n",
    "        self.attention = Attention(embed_dim,num_heads,dropout)\n",
    "        self.layer_norm = nn.LayerNorm(embed_dim)\n",
    "        \n",
    "    def forward(self,enc_inp:Tensor):\n",
    "        enc_out , _ = self.attention(enc_inp,enc_inp,enc_inp)\n",
    "        enc_out = enc_out + enc_inp\n",
    "        enc_out = self.layer_norm(enc_out)\n",
    "        return enc_out"
   ]
  },
  {
   "cell_type": "code",
   "execution_count": 12,
   "id": "aa20fe00",
   "metadata": {
    "execution": {
     "iopub.execute_input": "2024-01-29T12:54:46.937211Z",
     "iopub.status.busy": "2024-01-29T12:54:46.936913Z",
     "iopub.status.idle": "2024-01-29T12:54:46.943019Z",
     "shell.execute_reply": "2024-01-29T12:54:46.942118Z"
    },
    "papermill": {
     "duration": 0.017982,
     "end_time": "2024-01-29T12:54:46.945018",
     "exception": false,
     "start_time": "2024-01-29T12:54:46.927036",
     "status": "completed"
    },
    "tags": []
   },
   "outputs": [],
   "source": [
    "class EncoderLayer(nn.Module):\n",
    "    def __init__(self,encode_size:int,embed_dim:int,feedforward_dim:int,num_heads:int,dropout:float):\n",
    "        super().__init__()\n",
    "        \n",
    "        self.enc_attn = EncSelfAttention(embed_dim,num_heads,dropout)\n",
    "        self.cnn = CNNFF(encode_size,embed_dim,feedforward_dim,dropout)\n",
    "        \n",
    "    def forward(self,enc_inp):\n",
    "        enc_out = self.enc_attn(enc_inp)\n",
    "        enc_out = self.cnn(enc_out)\n",
    "        return enc_out"
   ]
  },
  {
   "cell_type": "code",
   "execution_count": 13,
   "id": "8307f108",
   "metadata": {
    "execution": {
     "iopub.execute_input": "2024-01-29T12:54:46.964080Z",
     "iopub.status.busy": "2024-01-29T12:54:46.963740Z",
     "iopub.status.idle": "2024-01-29T12:54:46.969771Z",
     "shell.execute_reply": "2024-01-29T12:54:46.968893Z"
    },
    "papermill": {
     "duration": 0.017897,
     "end_time": "2024-01-29T12:54:46.971777",
     "exception": false,
     "start_time": "2024-01-29T12:54:46.953880",
     "status": "completed"
    },
    "tags": []
   },
   "outputs": [],
   "source": [
    "class Encoder(nn.Module):\n",
    "    def __init__(self,layer:EncoderLayer,num_layers:int):\n",
    "        super().__init__()\n",
    "        \n",
    "        self.layers = nn.ModuleList(\n",
    "            [deepcopy(layer) for _ in range(num_layers)])\n",
    "        \n",
    "    def forward(self,x:Tensor):\n",
    "        for layer in self.layers:\n",
    "            x = layer(x)\n",
    "            \n",
    "        return x"
   ]
  },
  {
   "cell_type": "markdown",
   "id": "443c775b",
   "metadata": {
    "papermill": {
     "duration": 0.008671,
     "end_time": "2024-01-29T12:54:46.989599",
     "exception": false,
     "start_time": "2024-01-29T12:54:46.980928",
     "status": "completed"
    },
    "tags": []
   },
   "source": [
    "# ------------------------------- Decoder -------------------------------"
   ]
  },
  {
   "cell_type": "code",
   "execution_count": 14,
   "id": "ba045195",
   "metadata": {
    "execution": {
     "iopub.execute_input": "2024-01-29T12:54:47.008520Z",
     "iopub.status.busy": "2024-01-29T12:54:47.008131Z",
     "iopub.status.idle": "2024-01-29T12:54:47.018336Z",
     "shell.execute_reply": "2024-01-29T12:54:47.017454Z"
    },
    "papermill": {
     "duration": 0.022246,
     "end_time": "2024-01-29T12:54:47.020403",
     "exception": false,
     "start_time": "2024-01-29T12:54:46.998157",
     "status": "completed"
    },
    "tags": []
   },
   "outputs": [],
   "source": [
    "class DecoderLayer(nn.Module):\n",
    "    def __init__(self,embed_dim:int ,num_heads:int ,feedforward_dim:int, dropout:float):\n",
    "        super().__init__()\n",
    "        \n",
    "        self.dec_self_attn = Attention(embed_dim,num_heads,dropout)\n",
    "        self.multihead_attn = Attention(embed_dim,num_heads,dropout)\n",
    "        \n",
    "        self.self_attn_norm = nn.LayerNorm(embed_dim)\n",
    "        self.multihead_norm = nn.LayerNorm(embed_dim)\n",
    "        \n",
    "        self.self_attn_dropout = nn.Dropout(dropout)\n",
    "        self.multihead_dropout = nn.Dropout(dropout)\n",
    "        \n",
    "        self.ff = nn.Sequential(nn.Linear(embed_dim,feedforward_dim),\n",
    "                               nn.ReLU(inplace=True),\n",
    "                               nn.Dropout(dropout),\n",
    "                               nn.Linear(feedforward_dim,embed_dim))\n",
    "        \n",
    "        self.ff_norm = nn.LayerNorm(embed_dim)\n",
    "        self.ff_dropout = nn.Dropout(dropout)\n",
    "        \n",
    "    def forward(self,dec_inps:Tensor ,enc_out: Tensor, tg_mask:Tensor = None, tg_pad_mask:Tensor = None):\n",
    "        \n",
    "        out, _ = self.dec_self_attn(dec_inps,dec_inps,dec_inps, attn_mask=tg_mask, key_padding_mask = tg_pad_mask)\n",
    "        out = dec_inps + self.self_attn_dropout(out)\n",
    "        out = self.self_attn_norm(out)\n",
    "        out2, attn = self.multihead_attn(out,enc_out,enc_out)\n",
    "        out = out + self.multihead_dropout(out2)\n",
    "        out = self.multihead_norm(out)\n",
    "        \n",
    "        out2 = self.ff(out)\n",
    "        out = self.ff_norm(out + self.ff_dropout(out2))\n",
    "        return out, attn"
   ]
  },
  {
   "cell_type": "code",
   "execution_count": 15,
   "id": "56351020",
   "metadata": {
    "execution": {
     "iopub.execute_input": "2024-01-29T12:54:47.039840Z",
     "iopub.status.busy": "2024-01-29T12:54:47.039503Z",
     "iopub.status.idle": "2024-01-29T12:54:47.050265Z",
     "shell.execute_reply": "2024-01-29T12:54:47.049386Z"
    },
    "papermill": {
     "duration": 0.022798,
     "end_time": "2024-01-29T12:54:47.052248",
     "exception": false,
     "start_time": "2024-01-29T12:54:47.029450",
     "status": "completed"
    },
    "tags": []
   },
   "outputs": [],
   "source": [
    "class Decoder(nn.Module):\n",
    "    def __init__(self,layer:DecoderLayer,vocab_size:int ,embed_dim:int, num_layers:int ,\n",
    "                 max_len:int, dropout:float, pad_id:int):\n",
    "        super().__init__()\n",
    "        self.pad_id = pad_id\n",
    "        self.cap_embed = nn.Embedding(vocab_size,embed_dim,padding_idx=pad_id)\n",
    "        self.pos_embed = PositionalEncoding(embed_dim,max_len)\n",
    "        \n",
    "        self.layers = nn.ModuleList(\n",
    "            [deepcopy(layer) for _ in range(num_layers)])\n",
    "        \n",
    "        self.dropout = nn.Dropout(dropout)\n",
    "        \n",
    "    def get_attn_mask(self, x:int):\n",
    "        return torch.triu(torch.ones(x,x)*float('-inf'),diagonal=1)\n",
    "    \n",
    "    def get_pad_mask(self,x):\n",
    "        mask = (x == self.pad_id)\n",
    "        return mask[:,None,None,:]\n",
    "        \n",
    "    def forward(self, tg_cap:Tensor, src_img:Tensor):\n",
    "        \n",
    "        tgt_pad_mask = self.get_pad_mask(tg_cap)\n",
    "        #print(f'Padding mask: {tgt_pad_mask.shape}')\n",
    "        tgt_attn_mask = self.get_attn_mask(tg_cap.size()[1])\n",
    "        tgt_attn_mask = tgt_attn_mask.to(tg_cap.device)\n",
    "        #print(f\"Attention mask: {tgt_attn_mask.shape}\")\n",
    "        tg_cap = self.cap_embed(tg_cap)\n",
    "        tg_cap = self.dropout(self.pos_embed(tg_cap))\n",
    "        \n",
    "        attn_all = []\n",
    "        for layer in self.layers:\n",
    "            tg_cap, attn = layer(tg_cap ,src_img ,tgt_attn_mask ,tgt_pad_mask)\n",
    "            attn_all.append(attn)\n",
    "#         print(attn_all)\n",
    "        attn_all = torch.stack(attn_all)\n",
    "#         print(attn_all)\n",
    "        return tg_cap,attn_all"
   ]
  },
  {
   "cell_type": "markdown",
   "id": "ef51313c",
   "metadata": {
    "papermill": {
     "duration": 0.008695,
     "end_time": "2024-01-29T12:54:47.069681",
     "exception": false,
     "start_time": "2024-01-29T12:54:47.060986",
     "status": "completed"
    },
    "tags": []
   },
   "source": [
    "# ----------------------------- Transformer ------------------------------"
   ]
  },
  {
   "cell_type": "code",
   "execution_count": 16,
   "id": "4f93964b",
   "metadata": {
    "execution": {
     "iopub.execute_input": "2024-01-29T12:54:47.088530Z",
     "iopub.status.busy": "2024-01-29T12:54:47.088142Z",
     "iopub.status.idle": "2024-01-29T12:54:47.096887Z",
     "shell.execute_reply": "2024-01-29T12:54:47.095961Z"
    },
    "papermill": {
     "duration": 0.020563,
     "end_time": "2024-01-29T12:54:47.098801",
     "exception": false,
     "start_time": "2024-01-29T12:54:47.078238",
     "status": "completed"
    },
    "tags": []
   },
   "outputs": [],
   "source": [
    "class Transformer(nn.Module):\n",
    "    def __init__(self,vocab_size:int, embed_dim:int, encode_size:int, enc_ff_dim:int,\n",
    "                dec_ff_dim:int, enc_n_layers:int, dec_n_layers:int, enc_n_heads:int,\n",
    "                dec_n_heads:int, max_len:int, dropout:float = 0.1,\n",
    "                pad_id:int = 2):\n",
    "        super().__init__()\n",
    "        \n",
    "        enc_layer = EncoderLayer(encode_size, embed_dim, enc_ff_dim, enc_n_heads, dropout)\n",
    "        dec_layer = DecoderLayer(embed_dim, dec_n_heads, dec_ff_dim, dropout)\n",
    "        \n",
    "        self.encoder = Encoder(enc_layer, enc_n_layers)\n",
    "        self.decoder = Decoder(dec_layer, vocab_size, embed_dim, dec_n_layers, max_len, dropout, pad_id)\n",
    "        \n",
    "        self.predictor = nn.Linear(embed_dim,vocab_size,bias = False)\n",
    "        \n",
    "    def forward(self, images:Tensor , captions:Tensor):\n",
    "        \n",
    "        enc_out = self.encoder(images)\n",
    "        tgt_cap, attn = self.decoder(captions,enc_out)\n",
    "        #print(tgt_cap.shape)\n",
    "        predictions = self.predictor(tgt_cap)\n",
    "        return predictions.contiguous(), attn.contiguous()\n",
    "    "
   ]
  },
  {
   "cell_type": "code",
   "execution_count": null,
   "id": "c95356dc",
   "metadata": {
    "papermill": {
     "duration": 0.008715,
     "end_time": "2024-01-29T12:54:47.169153",
     "exception": false,
     "start_time": "2024-01-29T12:54:47.160438",
     "status": "completed"
    },
    "tags": []
   },
   "outputs": [],
   "source": []
  },
  {
   "cell_type": "code",
   "execution_count": 17,
   "id": "59403d56",
   "metadata": {
    "execution": {
     "iopub.execute_input": "2024-01-29T12:54:47.188211Z",
     "iopub.status.busy": "2024-01-29T12:54:47.187856Z",
     "iopub.status.idle": "2024-01-29T12:54:47.194245Z",
     "shell.execute_reply": "2024-01-29T12:54:47.193412Z"
    },
    "papermill": {
     "duration": 0.018226,
     "end_time": "2024-01-29T12:54:47.196239",
     "exception": false,
     "start_time": "2024-01-29T12:54:47.178013",
     "status": "completed"
    },
    "tags": []
   },
   "outputs": [],
   "source": [
    "def loss_fn(logits:Tensor, targets:Tensor, attn: Tensor,criterion):\n",
    "    v_size = logits.size()[-1]\n",
    "    targets = targets.contiguous()\n",
    "    loss = criterion(logits.view(-1,v_size),targets.view(-1))\n",
    "    \n",
    "    attn = attn.permute(0,2,1,3,4)\n",
    "    \n",
    "    ln,hn = attn.size()[:2]\n",
    "    \n",
    "    alphas = 1.0*(1. - attn.sum(dim=3).view(ln,hn,-1))**2\n",
    "    dsar = alphas.mean(-1).sum()\n",
    "    \n",
    "    return loss + dsar"
   ]
  },
  {
   "cell_type": "code",
   "execution_count": 18,
   "id": "759a9118",
   "metadata": {
    "execution": {
     "iopub.execute_input": "2024-01-29T12:54:47.215089Z",
     "iopub.status.busy": "2024-01-29T12:54:47.214772Z",
     "iopub.status.idle": "2024-01-29T12:54:47.220047Z",
     "shell.execute_reply": "2024-01-29T12:54:47.219284Z"
    },
    "papermill": {
     "duration": 0.016787,
     "end_time": "2024-01-29T12:54:47.221898",
     "exception": false,
     "start_time": "2024-01-29T12:54:47.205111",
     "status": "completed"
    },
    "tags": []
   },
   "outputs": [],
   "source": [
    "def clip_gradient(embed_optim,transformer_optim):\n",
    "    for optim in [embed_optim,transformer_optim]:\n",
    "        for group in optim.param_groups:\n",
    "            for param in group[\"params\"]:\n",
    "                if param.grad is not None:\n",
    "                    param.grad.data.clamp_(-5.0,5.0)\n",
    "                    \n",
    "    return embed_optim,transformer_optim"
   ]
  },
  {
   "cell_type": "code",
   "execution_count": 19,
   "id": "13ef0dfe",
   "metadata": {
    "execution": {
     "iopub.execute_input": "2024-01-29T12:54:47.241018Z",
     "iopub.status.busy": "2024-01-29T12:54:47.240674Z",
     "iopub.status.idle": "2024-01-29T12:54:47.256118Z",
     "shell.execute_reply": "2024-01-29T12:54:47.255317Z"
    },
    "papermill": {
     "duration": 0.027207,
     "end_time": "2024-01-29T12:54:47.257964",
     "exception": false,
     "start_time": "2024-01-29T12:54:47.230757",
     "status": "completed"
    },
    "tags": []
   },
   "outputs": [],
   "source": [
    "def generate(embed,transformer,lang):\n",
    "    img_path = \"/kaggle/input/flikr8k/Flickr8K/Flicker8k_Images/1002674143_1b742ab4b8.jpg\"\n",
    "    img = Image.open(img_path)\n",
    "    img = transform(img)\n",
    "    img = img.unsqueeze(0).to(device)\n",
    "    start = torch.full(size=(1, 1),fill_value=0,dtype=torch.long,device=device)\n",
    "    \n",
    "    with torch.no_grad():\n",
    "        k = 5\n",
    "        h = 14\n",
    "        w = 14\n",
    "        emb_out = embed(img)\n",
    "        logits, attn = transformer(emb_out,start)\n",
    "\n",
    "        log_prob = F.log_softmax(logits,dim=2)\n",
    "        log_prob_top, ind_top = log_prob.topk(k,sorted=True)\n",
    "\n",
    "        curr_pred = torch.cat(\n",
    "            [start.expand(k,1),ind_top.view(k,1)],dim = 1)\n",
    "\n",
    "    seq_pred = []\n",
    "    seq_log_prob = []\n",
    "    seq_attn = []\n",
    "\n",
    "    while curr_pred.size(1) <= 10 and k > 0 and curr_pred.nelement():\n",
    "        with torch.no_grad():\n",
    "            img_exp = emb_out.expand(k,*emb_out.size()[1:])\n",
    "            logits,attn = transformer(img_exp,curr_pred)\n",
    "\n",
    "            log_prob = F.log_softmax(logits[:,-1:,:],dim=-1).squeeze(1)\n",
    "            log_prob = log_prob + log_prob_top.view(k,1)\n",
    "\n",
    "            log_prob_top, ind_top = log_prob.view(-1).topk(k,sorted = True)\n",
    "\n",
    "            prev_seq_k, next_word_id = np.unravel_index(ind_top.cpu(),log_prob.size())\n",
    "            next_word_id = torch.as_tensor(next_word_id).to(device).view(k,1)\n",
    "\n",
    "            curr_pred = torch.cat((curr_pred[prev_seq_k],next_word_id),dim = 1)\n",
    "\n",
    "            seq_end = (next_word_id == 1).view(-1)\n",
    "\n",
    "        if torch.any(seq_end):\n",
    "            seq_pred.extend(seq.tolist() for seq in curr_pred[seq_end])\n",
    "\n",
    "            seq_log_prob.extend(log_prob_top[seq_end].tolist())\n",
    "\n",
    "            attn = attn[-1].mean(dim=1).view(k,-1,h,w)\n",
    "\n",
    "            seq_attn.extend(attn[prev_seq_k][seq_end].tolist())\n",
    "\n",
    "            k -= torch.sum(seq_end)\n",
    "            curr_pred = curr_pred[~seq_end]\n",
    "            log_prob_top = log_prob_top[~seq_end]\n",
    "\n",
    "    specials = [0,1,2]\n",
    "    if seq_pred and seq_attn and seq_log_prob:\n",
    "        seq_pred,seq_attn,seq_log_prob = zip(*sorted(\n",
    "            zip(seq_pred,seq_attn,seq_log_prob),key = lambda tup:-tup[2]))\n",
    "\n",
    "        text_pred = [[lang.index2word[s] for s in seq if s not in specials]\n",
    "                     for seq in seq_pred]\n",
    "        print(text_pred)"
   ]
  },
  {
   "cell_type": "code",
   "execution_count": 20,
   "id": "7ccd12cc",
   "metadata": {
    "execution": {
     "iopub.execute_input": "2024-01-29T12:54:47.277893Z",
     "iopub.status.busy": "2024-01-29T12:54:47.277312Z",
     "iopub.status.idle": "2024-01-29T12:54:47.289647Z",
     "shell.execute_reply": "2024-01-29T12:54:47.288751Z"
    },
    "papermill": {
     "duration": 0.024715,
     "end_time": "2024-01-29T12:54:47.291749",
     "exception": false,
     "start_time": "2024-01-29T12:54:47.267034",
     "status": "completed"
    },
    "tags": []
   },
   "outputs": [],
   "source": [
    "def run(embed,transformer):\n",
    "    num_epochs = 100\n",
    "    data = Data(\"/kaggle/input/flikr8k/Flickr8K/Flicker8k_Images\",\"/kaggle/input/flikr8k/Flickr8K/Flickr8k_text/Flickr8k.lemma.token.txt\")\n",
    "    dataloader = DataLoader(data,16,shuffle = True,num_workers=NUM_WORKERS,pin_memory=True)\n",
    "    \n",
    "    embed_lr = 1e-4\n",
    "    transformer_lr = 1e-4\n",
    "    embed_params = filter(lambda p: p.requires_grad,embed.parameters())\n",
    "    transformer_params = filter(lambda p: p.requires_grad,transformer.parameters())\n",
    "    \n",
    "    embed_optim = torch.optim.Adam(embed_params,embed_lr)\n",
    "    transformer_optim = torch.optim.Adam(transformer_params,transformer_lr)\n",
    "    \n",
    "    criterion = nn.CrossEntropyLoss(ignore_index = 2).to(device)\n",
    "    \n",
    "    for epoch in range(num_epochs+1):\n",
    "        embed.train()\n",
    "        transformer.train()\n",
    "        iterator = tqdm(dataloader,desc = f\"Processing Epoch {epoch}:\")\n",
    "        for batch in iterator:\n",
    "            images = batch[\"image\"].to(device)\n",
    "            tokens = batch[\"dec_input\"].to(device)\n",
    "            embed_optim.zero_grad()\n",
    "            transformer_optim.zero_grad()\n",
    "            \n",
    "            with torch.set_grad_enabled(True):\n",
    "                embed_out = embed(images)\n",
    "                \n",
    "                logits,attns = transformer(embed_out,tokens[:,:-1])\n",
    "                \n",
    "                loss = loss_fn(logits,tokens[:,1:],attns,criterion)\n",
    "                \n",
    "                loss.backward()\n",
    "                embed_optim,transformer_optim = clip_gradient(embed_optim,transformer_optim)\n",
    "#                 torch.nn.utils.clip_grad_norm_(embed.parameters(), 5)\n",
    "#                 torch.nn.utils.clip_grad_norm_(transformer.parameters(), 5)\n",
    "                embed_optim.step()\n",
    "                transformer_optim.step()\n",
    "                iterator.set_postfix({\"loss\": f\"{loss.item():6.3f}\"})\n",
    "        embed.eval()\n",
    "        transformer.eval()\n",
    "        generate(embed,transformer,data.lang)\n",
    "        if epoch < 70:\n",
    "            if epoch%10 == 0:\n",
    "                torch.save(transformer.state_dict(), f'transformer_{epoch}.pth')\n",
    "                torch.save(embed.state_dict(), f'embed_{epoch}.pth')\n",
    "        else:\n",
    "            if epoch%5 == 0:\n",
    "                torch.save(transformer.state_dict(), f'transformer_{epoch}.pth')\n",
    "                torch.save(embed.state_dict(), f'embed_{epoch}.pth')"
   ]
  },
  {
   "cell_type": "code",
   "execution_count": 21,
   "id": "cd00bdfb",
   "metadata": {
    "execution": {
     "iopub.execute_input": "2024-01-29T12:54:47.312412Z",
     "iopub.status.busy": "2024-01-29T12:54:47.311628Z",
     "iopub.status.idle": "2024-01-29T12:54:51.941754Z",
     "shell.execute_reply": "2024-01-29T12:54:51.940934Z"
    },
    "papermill": {
     "duration": 4.642225,
     "end_time": "2024-01-29T12:54:51.944003",
     "exception": false,
     "start_time": "2024-01-29T12:54:47.301778",
     "status": "completed"
    },
    "tags": []
   },
   "outputs": [
    {
     "name": "stderr",
     "output_type": "stream",
     "text": [
      "/opt/conda/lib/python3.10/site-packages/torchvision/models/_utils.py:208: UserWarning: The parameter 'pretrained' is deprecated since 0.13 and may be removed in the future, please use 'weights' instead.\n",
      "  warnings.warn(\n",
      "/opt/conda/lib/python3.10/site-packages/torchvision/models/_utils.py:223: UserWarning: Arguments other than a weight enum or `None` for 'weights' are deprecated since 0.13 and may be removed in the future. The current behavior is equivalent to passing `weights=ResNet101_Weights.IMAGENET1K_V1`. You can also use `weights=ResNet101_Weights.DEFAULT` to get the most up-to-date weights.\n",
      "  warnings.warn(msg)\n",
      "Downloading: \"https://download.pytorch.org/models/resnet101-63fe2227.pth\" to /root/.cache/torch/hub/checkpoints/resnet101-63fe2227.pth\n",
      "100%|██████████| 171M/171M [00:03<00:00, 59.0MB/s]\n"
     ]
    }
   ],
   "source": [
    "embed = PatchEmbedding(14,768).to(device)\n",
    "transformer = Transformer(4258,768,196,768,3072,2,8,12,12,12,0.1,2).to(device)\n",
    "embed.fine_tune(True)"
   ]
  },
  {
   "cell_type": "code",
   "execution_count": 22,
   "id": "bc68427f",
   "metadata": {
    "execution": {
     "iopub.execute_input": "2024-01-29T12:54:51.968759Z",
     "iopub.status.busy": "2024-01-29T12:54:51.968407Z",
     "iopub.status.idle": "2024-01-29T21:36:01.940713Z",
     "shell.execute_reply": "2024-01-29T21:36:01.939617Z"
    },
    "papermill": {
     "duration": 31269.987507,
     "end_time": "2024-01-29T21:36:01.943393",
     "exception": false,
     "start_time": "2024-01-29T12:54:51.955886",
     "status": "completed"
    },
    "tags": []
   },
   "outputs": [
    {
     "name": "stderr",
     "output_type": "stream",
     "text": [
      "Processing Epoch 0:: 100%|██████████| 1303/1303 [05:11<00:00,  4.18it/s, loss=88.306]\n",
      "Processing Epoch 1:: 100%|██████████| 1303/1303 [05:09<00:00,  4.21it/s, loss=88.130]\n",
      "Processing Epoch 2:: 100%|██████████| 1303/1303 [05:09<00:00,  4.21it/s, loss=87.640]\n",
      "Processing Epoch 3:: 100%|██████████| 1303/1303 [05:09<00:00,  4.21it/s, loss=87.680]\n",
      "Processing Epoch 4:: 100%|██████████| 1303/1303 [05:09<00:00,  4.21it/s, loss=86.923]\n"
     ]
    },
    {
     "name": "stdout",
     "output_type": "stream",
     "text": [
      "[['a', 'little', 'girl', 'wear', 'a', 'yellow', 'dress', 'blow', 'bubble']]\n"
     ]
    },
    {
     "name": "stderr",
     "output_type": "stream",
     "text": [
      "Processing Epoch 5:: 100%|██████████| 1303/1303 [05:09<00:00,  4.21it/s, loss=87.039]\n"
     ]
    },
    {
     "name": "stdout",
     "output_type": "stream",
     "text": [
      "[['a', 'girl', 'be', 'paint', 'outside', 'with', 'her', 'hair', 'outside'], ['a', 'girl', 'be', 'paint', 'outside', 'with', 'her', 'hair', 'girl'], ['a', 'little', 'girl', 'be', 'paint', 'outside', 'with', 'her', 'hair'], ['a', 'girl', 'be', 'paint', 'outdoors', 'with', 'her', 'hair', 'girl']]\n"
     ]
    },
    {
     "name": "stderr",
     "output_type": "stream",
     "text": [
      "Processing Epoch 6:: 100%|██████████| 1303/1303 [05:09<00:00,  4.21it/s, loss=86.813]\n",
      "Processing Epoch 7:: 100%|██████████| 1303/1303 [05:09<00:00,  4.21it/s, loss=86.734]\n"
     ]
    },
    {
     "name": "stdout",
     "output_type": "stream",
     "text": [
      "[['a', 'girl', 'with', 'pigtail', 'paint', 'outside', 'in', 'the', 'grass'], ['little', 'girl', 'with', 'pigtail', 'paint', 'outside', 'in', 'the', 'grass']]\n"
     ]
    },
    {
     "name": "stderr",
     "output_type": "stream",
     "text": [
      "Processing Epoch 8:: 100%|██████████| 1303/1303 [05:09<00:00,  4.21it/s, loss=86.612]\n"
     ]
    },
    {
     "name": "stdout",
     "output_type": "stream",
     "text": [
      "[['young', 'girl', 'with', 'pigtail', 'paint', 'outside', 'in', 'the', 'grass']]\n"
     ]
    },
    {
     "name": "stderr",
     "output_type": "stream",
     "text": [
      "Processing Epoch 9:: 100%|██████████| 1303/1303 [05:09<00:00,  4.21it/s, loss=86.553]\n",
      "Processing Epoch 10:: 100%|██████████| 1303/1303 [05:09<00:00,  4.21it/s, loss=86.396]\n"
     ]
    },
    {
     "name": "stdout",
     "output_type": "stream",
     "text": [
      "[['young', 'girl', 'with', 'pigtail', 'paint', 'outside', 'in', 'the', 'grass'], ['little', 'girl', 'with', 'pigtail', 'paint', 'outside', 'in', 'the', 'grass'], ['young', 'girl', 'with', 'pigtail', 'paint', 'outside', 'in', 'the', 'yard']]\n"
     ]
    },
    {
     "name": "stderr",
     "output_type": "stream",
     "text": [
      "Processing Epoch 11:: 100%|██████████| 1303/1303 [05:10<00:00,  4.20it/s, loss=86.258]\n"
     ]
    },
    {
     "name": "stdout",
     "output_type": "stream",
     "text": [
      "[['young', 'girl', 'with', 'pigtail', 'paint', 'outside', 'in', 'the', 'grass'], ['little', 'girl', 'with', 'pigtail', 'paint', 'outside', 'in', 'the', 'grass'], ['a', 'girl', 'with', 'pigtail', 'paint', 'outside', 'in', 'the', 'grass']]\n"
     ]
    },
    {
     "name": "stderr",
     "output_type": "stream",
     "text": [
      "Processing Epoch 12:: 100%|██████████| 1303/1303 [05:10<00:00,  4.20it/s, loss=86.128]\n"
     ]
    },
    {
     "name": "stdout",
     "output_type": "stream",
     "text": [
      "[['young', 'girl', 'with', 'pigtail', 'paint', 'outside', 'in', 'the', 'grass']]\n"
     ]
    },
    {
     "name": "stderr",
     "output_type": "stream",
     "text": [
      "Processing Epoch 13:: 100%|██████████| 1303/1303 [05:10<00:00,  4.20it/s, loss=86.254]\n",
      "Processing Epoch 14:: 100%|██████████| 1303/1303 [05:09<00:00,  4.20it/s, loss=86.186]\n"
     ]
    },
    {
     "name": "stdout",
     "output_type": "stream",
     "text": [
      "[['young', 'girl', 'with', 'pigtail', 'paint', 'outside', 'in', 'the', 'grass'], ['little', 'girl', 'with', 'pigtail', 'paint', 'outside', 'in', 'the', 'grass']]\n"
     ]
    },
    {
     "name": "stderr",
     "output_type": "stream",
     "text": [
      "Processing Epoch 15:: 100%|██████████| 1303/1303 [05:10<00:00,  4.20it/s, loss=86.113]\n",
      "Processing Epoch 16:: 100%|██████████| 1303/1303 [05:09<00:00,  4.20it/s, loss=86.066]\n",
      "Processing Epoch 17:: 100%|██████████| 1303/1303 [05:09<00:00,  4.20it/s, loss=86.092]\n"
     ]
    },
    {
     "name": "stdout",
     "output_type": "stream",
     "text": [
      "[['young', 'girl', 'with', 'pigtail', 'paint', 'outside', 'in', 'the', 'grass']]\n"
     ]
    },
    {
     "name": "stderr",
     "output_type": "stream",
     "text": [
      "Processing Epoch 18:: 100%|██████████| 1303/1303 [05:10<00:00,  4.20it/s, loss=85.992]\n"
     ]
    },
    {
     "name": "stdout",
     "output_type": "stream",
     "text": [
      "[['young', 'girl', 'with', 'pigtail', 'paint', 'outside', 'in', 'the', 'grass'], ['little', 'girl', 'with', 'pigtail', 'paint', 'outside', 'in', 'the', 'grass'], ['girl', 'with', 'pigtail', 'paint', 'outside', 'in', 'the', 'grass'], ['young', 'girl', 'with', 'pigtail', 'paint', 'outside', 'in', 'the', 'yard']]\n"
     ]
    },
    {
     "name": "stderr",
     "output_type": "stream",
     "text": [
      "Processing Epoch 19:: 100%|██████████| 1303/1303 [05:10<00:00,  4.20it/s, loss=85.994]\n"
     ]
    },
    {
     "name": "stdout",
     "output_type": "stream",
     "text": [
      "[['young', 'girl', 'with', 'pigtail', 'paint', 'outside', 'in', 'the', 'grass'], ['a', 'girl', 'with', 'pigtail', 'paint', 'outside', 'in', 'the', 'grass']]\n"
     ]
    },
    {
     "name": "stderr",
     "output_type": "stream",
     "text": [
      "Processing Epoch 20:: 100%|██████████| 1303/1303 [05:09<00:00,  4.21it/s, loss=85.992]\n"
     ]
    },
    {
     "name": "stdout",
     "output_type": "stream",
     "text": [
      "[['young', 'girl', 'with', 'pigtail', 'paint', 'outside', 'in', 'the', 'grass'], ['a', 'girl', 'with', 'pigtail', 'paint', 'outside', 'in', 'the', 'grass'], ['young', 'girl', 'with', 'pigtail', 'paint', 'outside', 'in', 'the', 'yard'], ['young', 'girl', 'with', 'pigtail', 'paint', 'outside', 'in', 'the', 'ground'], ['young', 'girl', 'with', 'pigtail', 'paint', 'outside', 'in', 'the', 'field']]\n"
     ]
    },
    {
     "name": "stderr",
     "output_type": "stream",
     "text": [
      "Processing Epoch 21:: 100%|██████████| 1303/1303 [05:09<00:00,  4.21it/s, loss=86.046]\n"
     ]
    },
    {
     "name": "stdout",
     "output_type": "stream",
     "text": [
      "[['young', 'girl', 'with', 'pigtail', 'paint', 'outside', 'in', 'the', 'grass'], ['a', 'girl', 'with', 'pigtail', 'paint', 'outside', 'in', 'the', 'grass']]\n"
     ]
    },
    {
     "name": "stderr",
     "output_type": "stream",
     "text": [
      "Processing Epoch 22:: 100%|██████████| 1303/1303 [05:09<00:00,  4.21it/s, loss=85.981]\n"
     ]
    },
    {
     "name": "stdout",
     "output_type": "stream",
     "text": [
      "[['young', 'girl', 'with', 'pigtail', 'paint', 'outside', 'in', 'the', 'grass'], ['young', 'girl', 'with', 'pigtail', 'paint', 'on', 'the', 'grassy', 'ground']]\n"
     ]
    },
    {
     "name": "stderr",
     "output_type": "stream",
     "text": [
      "Processing Epoch 23:: 100%|██████████| 1303/1303 [05:09<00:00,  4.20it/s, loss=86.019]\n"
     ]
    },
    {
     "name": "stdout",
     "output_type": "stream",
     "text": [
      "[['young', 'girl', 'with', 'pigtail', 'paint', 'outside', 'in', 'the', 'grass']]\n"
     ]
    },
    {
     "name": "stderr",
     "output_type": "stream",
     "text": [
      "Processing Epoch 24:: 100%|██████████| 1303/1303 [05:09<00:00,  4.21it/s, loss=85.966]\n"
     ]
    },
    {
     "name": "stdout",
     "output_type": "stream",
     "text": [
      "[['young', 'girl', 'with', 'pigtail', 'paint', 'outside', 'in', 'the', 'grass'], ['young', 'girl', 'with', 'pigtail', 'paint', 'outside', 'in', 'the', 'bush'], ['young', 'girl', 'with', 'pigtail', 'paint', 'outside', 'in', 'the', 'clothing'], ['young', 'girl', 'with', 'pigtail', 'paint', 'outside', 'on', 'the', 'grass'], ['young', 'girl', 'with', 'pigtail', 'paint', 'outside', 'in', 'the', 'hay']]\n"
     ]
    },
    {
     "name": "stderr",
     "output_type": "stream",
     "text": [
      "Processing Epoch 25:: 100%|██████████| 1303/1303 [05:09<00:00,  4.20it/s, loss=85.841]\n"
     ]
    },
    {
     "name": "stdout",
     "output_type": "stream",
     "text": [
      "[['young', 'girl', 'with', 'pigtail', 'paint', 'outside', 'in', 'the', 'grass']]\n"
     ]
    },
    {
     "name": "stderr",
     "output_type": "stream",
     "text": [
      "Processing Epoch 26:: 100%|██████████| 1303/1303 [05:09<00:00,  4.21it/s, loss=85.927]\n"
     ]
    },
    {
     "name": "stdout",
     "output_type": "stream",
     "text": [
      "[['young', 'girl', 'with', 'pigtail', 'paint', 'outside', 'in', 'the', 'grass'], ['a', 'girl', 'with', 'pigtail', 'paint', 'outside', 'in', 'the', 'grass']]\n"
     ]
    },
    {
     "name": "stderr",
     "output_type": "stream",
     "text": [
      "Processing Epoch 27:: 100%|██████████| 1303/1303 [05:09<00:00,  4.21it/s, loss=85.878]\n"
     ]
    },
    {
     "name": "stdout",
     "output_type": "stream",
     "text": [
      "[['young', 'girl', 'with', 'pigtail', 'paint', 'outside', 'in', 'the', 'grass'], ['a', 'girl', 'with', 'pigtail', 'paint', 'outside', 'in', 'the', 'grass']]\n"
     ]
    },
    {
     "name": "stderr",
     "output_type": "stream",
     "text": [
      "Processing Epoch 28:: 100%|██████████| 1303/1303 [05:09<00:00,  4.21it/s, loss=86.001]\n"
     ]
    },
    {
     "name": "stdout",
     "output_type": "stream",
     "text": [
      "[['young', 'girl', 'with', 'pigtail', 'paint', 'outside', 'in', 'the', 'grass']]\n"
     ]
    },
    {
     "name": "stderr",
     "output_type": "stream",
     "text": [
      "Processing Epoch 29:: 100%|██████████| 1303/1303 [05:09<00:00,  4.22it/s, loss=85.856]\n"
     ]
    },
    {
     "name": "stdout",
     "output_type": "stream",
     "text": [
      "[['young', 'girl', 'with', 'pigtail', 'paint', 'outside', 'in', 'the', 'grass'], ['a', 'girl', 'with', 'pigtail', 'paint', 'outside', 'in', 'the', 'grass'], ['young', 'girl', 'with', 'pigtail', 'paint', 'outside', 'in', 'the', 'field'], ['young', 'girl', 'with', 'pigtail', 'paint', 'house', 'at', 'a', 'market']]\n"
     ]
    },
    {
     "name": "stderr",
     "output_type": "stream",
     "text": [
      "Processing Epoch 30:: 100%|██████████| 1303/1303 [05:08<00:00,  4.22it/s, loss=85.994]\n"
     ]
    },
    {
     "name": "stdout",
     "output_type": "stream",
     "text": [
      "[['young', 'girl', 'with', 'pigtail', 'paint', 'outside', 'in', 'the', 'grass'], ['a', 'girl', 'with', 'pigtail', 'paint', 'outside', 'in', 'the', 'grass'], ['girl', 'with', 'pigtail', 'paint', 'outside', 'in', 'the', 'grass']]\n"
     ]
    },
    {
     "name": "stderr",
     "output_type": "stream",
     "text": [
      "Processing Epoch 31:: 100%|██████████| 1303/1303 [05:09<00:00,  4.21it/s, loss=85.883]\n"
     ]
    },
    {
     "name": "stdout",
     "output_type": "stream",
     "text": [
      "[['young', 'girl', 'with', 'pigtail', 'paint', 'outside', 'in', 'the', 'grass'], ['a', 'girl', 'with', 'pigtail', 'paint', 'outside', 'in', 'the', 'grass'], ['girl', 'with', 'pigtail', 'paint', 'outside', 'in', 'the', 'grass']]\n"
     ]
    },
    {
     "name": "stderr",
     "output_type": "stream",
     "text": [
      "Processing Epoch 32:: 100%|██████████| 1303/1303 [05:09<00:00,  4.21it/s, loss=85.885]\n"
     ]
    },
    {
     "name": "stdout",
     "output_type": "stream",
     "text": [
      "[['young', 'girl', 'with', 'pigtail', 'paint', 'outside', 'in', 'the', 'grass'], ['a', 'girl', 'with', 'pigtail', 'paint', 'outside', 'in', 'the', 'grass']]\n"
     ]
    },
    {
     "name": "stderr",
     "output_type": "stream",
     "text": [
      "Processing Epoch 33:: 100%|██████████| 1303/1303 [05:08<00:00,  4.22it/s, loss=85.919]\n"
     ]
    },
    {
     "name": "stdout",
     "output_type": "stream",
     "text": [
      "[['young', 'girl', 'with', 'pigtail', 'paint', 'outside', 'in', 'the', 'grass']]\n"
     ]
    },
    {
     "name": "stderr",
     "output_type": "stream",
     "text": [
      "Processing Epoch 34:: 100%|██████████| 1303/1303 [05:09<00:00,  4.21it/s, loss=85.967]\n"
     ]
    },
    {
     "name": "stdout",
     "output_type": "stream",
     "text": [
      "[['young', 'girl', 'with', 'pigtail', 'paint', 'outside', 'in', 'the', 'grass'], ['a', 'girl', 'with', 'pigtail', 'paint', 'outside', 'in', 'the', 'grass'], ['girl', 'with', 'pigtail', 'paint', 'outside', 'in', 'the', 'grass']]\n"
     ]
    },
    {
     "name": "stderr",
     "output_type": "stream",
     "text": [
      "Processing Epoch 35:: 100%|██████████| 1303/1303 [05:09<00:00,  4.21it/s, loss=85.885]\n"
     ]
    },
    {
     "name": "stdout",
     "output_type": "stream",
     "text": [
      "[['young', 'girl', 'with', 'pigtail', 'paint', 'outside', 'in', 'the', 'grass'], ['a', 'girl', 'with', 'pigtail', 'paint', 'outside', 'in', 'the', 'grass']]\n"
     ]
    },
    {
     "name": "stderr",
     "output_type": "stream",
     "text": [
      "Processing Epoch 36:: 100%|██████████| 1303/1303 [05:09<00:00,  4.21it/s, loss=85.816]\n"
     ]
    },
    {
     "name": "stdout",
     "output_type": "stream",
     "text": [
      "[['young', 'girl', 'with', 'pigtail', 'paint', 'outside', 'in', 'the', 'grass'], ['young', 'girl', 'with', 'pigtail', 'paint', 'outside', 'in', 'the', 'yard'], ['young', 'child', 'with', 'pigtail', 'paint', 'outside', 'in', 'the', 'grass'], ['little', 'girl', 'with', 'pigtail', 'paint', 'outside', 'in', 'the', 'grass']]\n"
     ]
    },
    {
     "name": "stderr",
     "output_type": "stream",
     "text": [
      "Processing Epoch 37:: 100%|██████████| 1303/1303 [05:09<00:00,  4.21it/s, loss=85.867]\n"
     ]
    },
    {
     "name": "stdout",
     "output_type": "stream",
     "text": [
      "[['young', 'girl', 'with', 'pigtail', 'paint', 'outside', 'in', 'the', 'grass'], ['little', 'girl', 'with', 'pigtail', 'paint', 'outside', 'in', 'the', 'grass'], ['young', 'girl', 'with', 'pigtail', 'paint', 'outside', 'in', 'the', 'yard']]\n"
     ]
    },
    {
     "name": "stderr",
     "output_type": "stream",
     "text": [
      "Processing Epoch 38:: 100%|██████████| 1303/1303 [05:09<00:00,  4.20it/s, loss=85.858]\n"
     ]
    },
    {
     "name": "stdout",
     "output_type": "stream",
     "text": [
      "[['young', 'girl', 'with', 'pigtail', 'paint', 'outside', 'in', 'the', 'distance'], ['little', 'girl', 'with', 'pigtail', 'paint', 'outside'], ['young', 'girl', 'with', 'pigtail', 'paint', 'outside', 'of', 'the', 'grass'], ['young', 'girl', 'with', 'pigtail', 'paint', 'outside', 'in', 'the', 'grass']]\n"
     ]
    },
    {
     "name": "stderr",
     "output_type": "stream",
     "text": [
      "Processing Epoch 39:: 100%|██████████| 1303/1303 [05:09<00:00,  4.21it/s, loss=85.882]\n"
     ]
    },
    {
     "name": "stdout",
     "output_type": "stream",
     "text": [
      "[['young', 'girl', 'with', 'pigtail', 'paint', 'outside', 'in', 'the', 'grass'], ['young', 'child', 'with', 'pigtail', 'paint', 'outside', 'in', 'the', 'grass'], ['little', 'girl', 'with', 'pigtail', 'paint', 'outside', 'in', 'the', 'grass'], ['young', 'boy', 'with', 'pigtail', 'paint', 'outside', 'in', 'the', 'grass']]\n"
     ]
    },
    {
     "name": "stderr",
     "output_type": "stream",
     "text": [
      "Processing Epoch 40:: 100%|██████████| 1303/1303 [05:09<00:00,  4.20it/s, loss=85.849]\n"
     ]
    },
    {
     "name": "stdout",
     "output_type": "stream",
     "text": [
      "[['young', 'girl', 'with', 'pigtail', 'paint', 'outside', 'in', 'the', 'grass'], ['a', 'girl', 'with', 'long', 'hair', 'play', 'with', 'a', 'bubble']]\n"
     ]
    },
    {
     "name": "stderr",
     "output_type": "stream",
     "text": [
      "Processing Epoch 41:: 100%|██████████| 1303/1303 [05:09<00:00,  4.20it/s, loss=85.822]\n"
     ]
    },
    {
     "name": "stdout",
     "output_type": "stream",
     "text": [
      "[['young', 'girl', 'with', 'pigtail', 'paint', 'outside', 'in', 'the', 'grass'], ['little', 'girl', 'with', 'pigtail', 'paint', 'outside', 'in', 'the', 'grass'], ['a', 'girl', 'with', 'a', 'stuff', 'animal', 'with', 'her', 'paint']]\n"
     ]
    },
    {
     "name": "stderr",
     "output_type": "stream",
     "text": [
      "Processing Epoch 42:: 100%|██████████| 1303/1303 [05:09<00:00,  4.21it/s, loss=85.758]\n"
     ]
    },
    {
     "name": "stdout",
     "output_type": "stream",
     "text": [
      "[['young', 'girl', 'with', 'pigtail', 'paint', 'outside', 'in', 'the', 'grass']]\n"
     ]
    },
    {
     "name": "stderr",
     "output_type": "stream",
     "text": [
      "Processing Epoch 43:: 100%|██████████| 1303/1303 [05:10<00:00,  4.20it/s, loss=85.963]\n"
     ]
    },
    {
     "name": "stdout",
     "output_type": "stream",
     "text": [
      "[['young', 'girl', 'with', 'pigtail', 'paint', 'outside', 'in', 'the', 'grass'], ['two', 'girl', 'with', 'pigtail', 'paint', 'outside', 'in', 'the', 'grass']]\n"
     ]
    },
    {
     "name": "stderr",
     "output_type": "stream",
     "text": [
      "Processing Epoch 44:: 100%|██████████| 1303/1303 [05:09<00:00,  4.21it/s, loss=85.770]\n"
     ]
    },
    {
     "name": "stdout",
     "output_type": "stream",
     "text": [
      "[['young', 'girl', 'with', 'pigtail', 'paint', 'outside', 'in', 'the', 'grass'], ['little', 'girl', 'with', 'pigtail', 'paint', 'outside', 'in', 'the', 'grass'], ['girl', 'with', 'pigtail', 'paint', 'outside', 'in', 'the', 'grass'], ['girl', 'with', 'pigtail', 'paint', 'with', 'bubble', 'in', 'the', 'grass']]\n"
     ]
    },
    {
     "name": "stderr",
     "output_type": "stream",
     "text": [
      "Processing Epoch 45:: 100%|██████████| 1303/1303 [05:09<00:00,  4.21it/s, loss=85.828]\n"
     ]
    },
    {
     "name": "stdout",
     "output_type": "stream",
     "text": [
      "[['young', 'girl', 'with', 'pigtail', 'paint', 'outside', 'in', 'the', 'grass'], ['little', 'girl', 'with', 'pigtail', 'paint', 'outside', 'in', 'the', 'grass'], ['young', 'girl', 'with', 'long', 'hair', 'cover', 'in', 'grass']]\n"
     ]
    },
    {
     "name": "stderr",
     "output_type": "stream",
     "text": [
      "Processing Epoch 46:: 100%|██████████| 1303/1303 [05:09<00:00,  4.20it/s, loss=85.832]\n"
     ]
    },
    {
     "name": "stdout",
     "output_type": "stream",
     "text": [
      "[['young', 'girl', 'with', 'pigtail', 'paint', 'outside', 'in', 'the', 'grass'], ['young', 'girl', 'with', 'pigtail', 'paint', 'outside', 'in', 'the', 'yard'], ['young', 'girl', 'with', 'pigtail', 'paint', 'outside'], ['young', 'girl', 'with', 'pigtail', 'paint', 'outside', 'on', 'her', 'face'], ['little', 'girl', 'with', 'pigtail', 'paint', 'outside']]\n"
     ]
    },
    {
     "name": "stderr",
     "output_type": "stream",
     "text": [
      "Processing Epoch 47:: 100%|██████████| 1303/1303 [05:09<00:00,  4.21it/s, loss=85.869]\n"
     ]
    },
    {
     "name": "stdout",
     "output_type": "stream",
     "text": [
      "[['young', 'girl', 'with', 'pigtail', 'paint', 'outside', 'in', 'the', 'grass'], ['girl', 'with', 'pigtail', 'paint', 'outside', 'in', 'the', 'grass'], ['girl', 'with', 'blue', 'hair', 'wear', 'a', 'bright', 'colored', 'shirt'], ['girl', 'with', 'brightly', 'colored', 'hair', 'wear', 'a', 'green', 'shirt'], ['girl', 'with', 'brightly', 'colored', 'hair', 'wear', 'a', 'blue', 'shirt']]\n"
     ]
    },
    {
     "name": "stderr",
     "output_type": "stream",
     "text": [
      "Processing Epoch 48:: 100%|██████████| 1303/1303 [05:09<00:00,  4.21it/s, loss=85.865]\n"
     ]
    },
    {
     "name": "stdout",
     "output_type": "stream",
     "text": [
      "[['young', 'girl', 'with', 'pigtail', 'paint', 'outside', 'in', 'the', 'grass'], ['young', 'girl', 'with', 'pigtail', 'paint', 'outside', 'on', 'the', 'grass'], ['young', 'girl', 'with', 'pigtail', 'paint', 'outside', 'in', 'the', 'air'], ['young', 'girl', 'with', 'pigtail', 'paint', 'outside', 'in', 'the', 'field']]\n"
     ]
    },
    {
     "name": "stderr",
     "output_type": "stream",
     "text": [
      "Processing Epoch 49:: 100%|██████████| 1303/1303 [05:09<00:00,  4.21it/s, loss=85.815]\n"
     ]
    },
    {
     "name": "stdout",
     "output_type": "stream",
     "text": [
      "[['young', 'girl', 'with', 'pigtail', 'paint', 'outside', 'in', 'the', 'grass']]\n"
     ]
    },
    {
     "name": "stderr",
     "output_type": "stream",
     "text": [
      "Processing Epoch 50:: 100%|██████████| 1303/1303 [05:09<00:00,  4.21it/s, loss=85.871]\n"
     ]
    },
    {
     "name": "stdout",
     "output_type": "stream",
     "text": [
      "[['young', 'girl', 'with', 'pigtail', 'paint', 'outside', 'in', 'the', 'grass'], ['little', 'girl', 'with', 'pigtail', 'paint', 'outside', 'in', 'the', 'grass']]\n"
     ]
    },
    {
     "name": "stderr",
     "output_type": "stream",
     "text": [
      "Processing Epoch 51:: 100%|██████████| 1303/1303 [05:09<00:00,  4.21it/s, loss=85.793]\n"
     ]
    },
    {
     "name": "stdout",
     "output_type": "stream",
     "text": [
      "[['young', 'girl', 'with', 'pigtail', 'paint', 'outside', 'in', 'the', 'grass'], ['little', 'girl', 'with', 'pigtail', 'paint', 'outside', 'in', 'the', 'grass']]\n"
     ]
    },
    {
     "name": "stderr",
     "output_type": "stream",
     "text": [
      "Processing Epoch 52:: 100%|██████████| 1303/1303 [05:09<00:00,  4.21it/s, loss=85.784]\n"
     ]
    },
    {
     "name": "stdout",
     "output_type": "stream",
     "text": [
      "[['young', 'girl', 'with', 'pigtail', 'paint', 'outside', 'in', 'the', 'grass'], ['a', 'little', 'girl', 'be', 'paint', 'outside', 'in', 'the', 'grass'], ['a', 'girl', 'with', 'long', 'hair', 'ribbon', 'in', 'the', 'grass'], ['a', 'little', 'girl', 'be', 'eat', 'a', 'piece', 'of', 'bread'], ['young', 'girl', 'with', 'pigtail', 'paint', 'outside', 'in', 'the', 'field']]\n"
     ]
    },
    {
     "name": "stderr",
     "output_type": "stream",
     "text": [
      "Processing Epoch 53:: 100%|██████████| 1303/1303 [05:09<00:00,  4.20it/s, loss=85.868]\n"
     ]
    },
    {
     "name": "stdout",
     "output_type": "stream",
     "text": [
      "[['young', 'girl', 'with', 'pigtail', 'paint', 'outside', 'in', 'the', 'grass'], ['a', 'girl', 'with', 'pigtail', 'paint', 'outside', 'in', 'the', 'grass']]\n"
     ]
    },
    {
     "name": "stderr",
     "output_type": "stream",
     "text": [
      "Processing Epoch 54:: 100%|██████████| 1303/1303 [05:09<00:00,  4.21it/s, loss=85.802]\n"
     ]
    },
    {
     "name": "stdout",
     "output_type": "stream",
     "text": [
      "[['young', 'girl', 'with', 'pigtail', 'paint', 'outside', 'in', 'the', 'grass'], ['girl', 'with', 'pigtail', 'paint', 'outside', 'in', 'the', 'grass']]\n"
     ]
    },
    {
     "name": "stderr",
     "output_type": "stream",
     "text": [
      "Processing Epoch 55:: 100%|██████████| 1303/1303 [05:09<00:00,  4.21it/s, loss=85.778]\n"
     ]
    },
    {
     "name": "stdout",
     "output_type": "stream",
     "text": [
      "[['young', 'girl', 'with', 'pigtail', 'paint', 'outside', 'in', 'the', 'grass'], ['little', 'girl', 'with', 'pigtail', 'paint', 'outside', 'in', 'the', 'grass'], ['a', 'girl', 'with', 'pigtail', 'paint', 'outside', 'in', 'the', 'grass']]\n"
     ]
    },
    {
     "name": "stderr",
     "output_type": "stream",
     "text": [
      "Processing Epoch 56:: 100%|██████████| 1303/1303 [05:09<00:00,  4.20it/s, loss=85.716]\n"
     ]
    },
    {
     "name": "stdout",
     "output_type": "stream",
     "text": [
      "[['young', 'girl', 'with', 'pigtail', 'paint', 'outside', 'in', 'the', 'grass']]\n"
     ]
    },
    {
     "name": "stderr",
     "output_type": "stream",
     "text": [
      "Processing Epoch 57:: 100%|██████████| 1303/1303 [05:09<00:00,  4.21it/s, loss=85.807]\n"
     ]
    },
    {
     "name": "stdout",
     "output_type": "stream",
     "text": [
      "[['young', 'girl', 'with', 'pigtail', 'paint', 'outside', 'in', 'the', 'grass'], ['girl', 'with', 'pigtail', 'paint', 'outside', 'in', 'the', 'grass']]\n"
     ]
    },
    {
     "name": "stderr",
     "output_type": "stream",
     "text": [
      "Processing Epoch 58:: 100%|██████████| 1303/1303 [05:09<00:00,  4.20it/s, loss=85.747]\n"
     ]
    },
    {
     "name": "stdout",
     "output_type": "stream",
     "text": [
      "[['young', 'girl', 'with', 'pigtail', 'paint', 'outside', 'in', 'the', 'grass'], ['little', 'girl', 'with', 'pigtail', 'paint', 'outside', 'in', 'the', 'grass'], ['young', 'girl', 'with', 'pigtail', 'an', 'open', 'field']]\n"
     ]
    },
    {
     "name": "stderr",
     "output_type": "stream",
     "text": [
      "Processing Epoch 59:: 100%|██████████| 1303/1303 [05:09<00:00,  4.20it/s, loss=85.833]\n"
     ]
    },
    {
     "name": "stdout",
     "output_type": "stream",
     "text": [
      "[['young', 'girl', 'with', 'pigtail', 'paint', 'outside', 'in', 'the', 'grass']]\n"
     ]
    },
    {
     "name": "stderr",
     "output_type": "stream",
     "text": [
      "Processing Epoch 60:: 100%|██████████| 1303/1303 [05:09<00:00,  4.20it/s, loss=85.838]\n",
      "Processing Epoch 61:: 100%|██████████| 1303/1303 [05:09<00:00,  4.21it/s, loss=85.727]\n"
     ]
    },
    {
     "name": "stdout",
     "output_type": "stream",
     "text": [
      "[['young', 'girl', 'with', 'blue', 'hair', 'blow', 'a', 'bubble']]\n"
     ]
    },
    {
     "name": "stderr",
     "output_type": "stream",
     "text": [
      "Processing Epoch 62:: 100%|██████████| 1303/1303 [05:10<00:00,  4.20it/s, loss=85.842]\n",
      "Processing Epoch 63:: 100%|██████████| 1303/1303 [05:10<00:00,  4.20it/s, loss=85.826]\n"
     ]
    },
    {
     "name": "stdout",
     "output_type": "stream",
     "text": [
      "[['young', 'girl', 'with', 'pigtail', 'paint', 'outside', 'in', 'the', 'grass']]\n"
     ]
    },
    {
     "name": "stderr",
     "output_type": "stream",
     "text": [
      "Processing Epoch 64:: 100%|██████████| 1303/1303 [05:09<00:00,  4.21it/s, loss=85.839]\n"
     ]
    },
    {
     "name": "stdout",
     "output_type": "stream",
     "text": [
      "[['young', 'girl', 'with', 'pigtail', 'paint', 'outside', 'in', 'the', 'grass']]\n"
     ]
    },
    {
     "name": "stderr",
     "output_type": "stream",
     "text": [
      "Processing Epoch 65:: 100%|██████████| 1303/1303 [05:09<00:00,  4.21it/s, loss=85.861]\n"
     ]
    },
    {
     "name": "stdout",
     "output_type": "stream",
     "text": [
      "[['young', 'girl', 'with', 'pigtail', 'paint', 'outside', 'in', 'the', 'grass'], ['girl', 'with', 'pigtail', 'paint', 'outside', 'in', 'the', 'grass'], ['young', 'girl', 'with', 'pigtail', 'paint', 'outside', 'in', 'a', 'field']]\n"
     ]
    },
    {
     "name": "stderr",
     "output_type": "stream",
     "text": [
      "Processing Epoch 66:: 100%|██████████| 1303/1303 [05:08<00:00,  4.22it/s, loss=85.824]\n"
     ]
    },
    {
     "name": "stdout",
     "output_type": "stream",
     "text": [
      "[['young', 'girl', 'with', 'pigtail', 'paint', 'outside', 'in', 'the', 'grass'], ['little', 'girl', 'with', 'pigtail', 'paint', 'outside', 'in', 'the', 'grass'], ['girl', 'with', 'pigtail', 'paint', 'outside', 'in', 'the', 'grass']]\n"
     ]
    },
    {
     "name": "stderr",
     "output_type": "stream",
     "text": [
      "Processing Epoch 67:: 100%|██████████| 1303/1303 [05:08<00:00,  4.23it/s, loss=85.704]\n"
     ]
    },
    {
     "name": "stdout",
     "output_type": "stream",
     "text": [
      "[['young', 'girl', 'with', 'pigtail', 'paint', 'outside', 'in', 'the', 'grass'], ['little', 'girl', 'with', 'pigtail', 'paint', 'outside', 'in', 'the', 'grass']]\n"
     ]
    },
    {
     "name": "stderr",
     "output_type": "stream",
     "text": [
      "Processing Epoch 68:: 100%|██████████| 1303/1303 [05:08<00:00,  4.22it/s, loss=85.836]\n"
     ]
    },
    {
     "name": "stdout",
     "output_type": "stream",
     "text": [
      "[['young', 'girl', 'with', 'pigtail', 'paint', 'outside', 'in', 'the', 'grass'], ['little', 'girl', 'with', 'pigtail', 'paint', 'outside', 'in', 'the', 'grass']]\n"
     ]
    },
    {
     "name": "stderr",
     "output_type": "stream",
     "text": [
      "Processing Epoch 69:: 100%|██████████| 1303/1303 [05:08<00:00,  4.22it/s, loss=85.831]\n"
     ]
    },
    {
     "name": "stdout",
     "output_type": "stream",
     "text": [
      "[['young', 'girl', 'with', 'pigtail', 'paint', 'outside', 'in', 'the', 'grass'], ['little', 'girl', 'with', 'pigtail', 'paint', 'outside', 'in', 'the', 'grass']]\n"
     ]
    },
    {
     "name": "stderr",
     "output_type": "stream",
     "text": [
      "Processing Epoch 70:: 100%|██████████| 1303/1303 [05:08<00:00,  4.23it/s, loss=85.744]\n"
     ]
    },
    {
     "name": "stdout",
     "output_type": "stream",
     "text": [
      "[['young', 'girl', 'with', 'pigtail', 'paint', 'outside', 'in', 'the', 'grass'], ['young', 'girl', 'with', 'pigtail', 'paint', 'outside', 'in', 'grass'], ['young', 'girl', 'with', 'pigtail', 'paint', 'outside', 'in', 'grass', 'field'], ['young', 'girl', 'with', 'pigtail', 'hang', 'outside', 'in', 'the', 'grass']]\n"
     ]
    },
    {
     "name": "stderr",
     "output_type": "stream",
     "text": [
      "Processing Epoch 71:: 100%|██████████| 1303/1303 [05:08<00:00,  4.22it/s, loss=85.748]\n"
     ]
    },
    {
     "name": "stdout",
     "output_type": "stream",
     "text": [
      "[['young', 'girl', 'with', 'pigtail', 'paint', 'outside', 'in', 'the', 'grass'], ['little', 'girl', 'with', 'pigtail', 'paint', 'outside', 'in', 'the', 'grass'], ['a', 'little', 'girl', 'be', 'sit', 'in', 'a', 'grass', 'field']]\n"
     ]
    },
    {
     "name": "stderr",
     "output_type": "stream",
     "text": [
      "Processing Epoch 72:: 100%|██████████| 1303/1303 [05:08<00:00,  4.22it/s, loss=85.781]\n"
     ]
    },
    {
     "name": "stdout",
     "output_type": "stream",
     "text": [
      "[['young', 'girl', 'with', 'pigtail', 'paint', 'outside', 'in', 'the', 'grass'], ['little', 'girl', 'with', 'pigtail', 'paint', 'outside', 'in', 'the', 'grass'], ['small', 'girl', 'with', 'pigtail', 'paint', 'outside', 'in', 'the', 'grass'], ['little', 'girl', 'with', 'pigtail', 'paint', 'outside', 'in', 'grass']]\n"
     ]
    },
    {
     "name": "stderr",
     "output_type": "stream",
     "text": [
      "Processing Epoch 73:: 100%|██████████| 1303/1303 [05:08<00:00,  4.23it/s, loss=85.802]\n"
     ]
    },
    {
     "name": "stdout",
     "output_type": "stream",
     "text": [
      "[['young', 'girl', 'with', 'pigtail', 'paint', 'outside', 'in', 'the', 'grass']]\n"
     ]
    },
    {
     "name": "stderr",
     "output_type": "stream",
     "text": [
      "Processing Epoch 74:: 100%|██████████| 1303/1303 [05:08<00:00,  4.22it/s, loss=85.827]\n"
     ]
    },
    {
     "name": "stdout",
     "output_type": "stream",
     "text": [
      "[['young', 'girl', 'with', 'pigtail', 'paint', 'outside', 'in', 'the', 'grass'], ['young', 'girl', 'with', 'pigtail', 'paint', 'outside', 'in', 'the', 'water'], ['young', 'girl', 'with', 'pigtail', 'paint', 'outside', 'in', 'the', 'air'], ['young', 'girl', 'with', 'pigtail', 'paint', 'outside', 'in', 'the', 'snow'], ['little', 'girl', 'with', 'pigtail', 'paint', 'outside', 'in', 'the', 'grass']]\n"
     ]
    },
    {
     "name": "stderr",
     "output_type": "stream",
     "text": [
      "Processing Epoch 75:: 100%|██████████| 1303/1303 [05:08<00:00,  4.22it/s, loss=85.747]\n"
     ]
    },
    {
     "name": "stdout",
     "output_type": "stream",
     "text": [
      "[['young', 'girl', 'with', 'pigtail', 'paint', 'outside', 'in', 'the', 'grass']]\n"
     ]
    },
    {
     "name": "stderr",
     "output_type": "stream",
     "text": [
      "Processing Epoch 76:: 100%|██████████| 1303/1303 [05:08<00:00,  4.23it/s, loss=85.746]\n"
     ]
    },
    {
     "name": "stdout",
     "output_type": "stream",
     "text": [
      "[['young', 'girl', 'with', 'pigtail', 'paint', 'outside', 'in', 'the', 'grass'], ['girl', 'with', 'pigtail', 'paint', 'outside', 'in', 'the', 'grass'], ['little', 'girl', 'with', 'pigtail', 'paint', 'outside', 'in', 'the', 'grass'], ['kid', 'with', 'pigtail', 'paint', 'outside', 'in', 'the', 'grass'], ['young', 'girl', 'with', 'pigtail', 'paint', 'outside', 'in', 'a', 'lawn']]\n"
     ]
    },
    {
     "name": "stderr",
     "output_type": "stream",
     "text": [
      "Processing Epoch 77:: 100%|██████████| 1303/1303 [05:08<00:00,  4.23it/s, loss=85.748]\n"
     ]
    },
    {
     "name": "stdout",
     "output_type": "stream",
     "text": [
      "[['young', 'girl', 'with', 'pigtail', 'paint', 'outside', 'in', 'the', 'grass'], ['a', 'girl', 'with', 'pigtail', 'paint', 'outside', 'in', 'the', 'grass']]\n"
     ]
    },
    {
     "name": "stderr",
     "output_type": "stream",
     "text": [
      "Processing Epoch 78:: 100%|██████████| 1303/1303 [05:08<00:00,  4.22it/s, loss=85.691]\n"
     ]
    },
    {
     "name": "stdout",
     "output_type": "stream",
     "text": [
      "[['young', 'girl', 'with', 'pigtail', 'paint', 'outside', 'in', 'the', 'grass']]\n"
     ]
    },
    {
     "name": "stderr",
     "output_type": "stream",
     "text": [
      "Processing Epoch 79:: 100%|██████████| 1303/1303 [05:08<00:00,  4.22it/s, loss=85.797]\n"
     ]
    },
    {
     "name": "stdout",
     "output_type": "stream",
     "text": [
      "[['young', 'girl', 'with', 'pigtail', 'paint', 'outside', 'in', 'the', 'grass'], ['young', 'girl', 'with', 'pigtail', 'an', 'innertube', 'in', 'the', 'grass'], ['young', 'girl', 'with', 'pigtail', 'an', 'innertube', 'over', 'her', 'head']]\n"
     ]
    },
    {
     "name": "stderr",
     "output_type": "stream",
     "text": [
      "Processing Epoch 80:: 100%|██████████| 1303/1303 [05:08<00:00,  4.23it/s, loss=85.759]\n"
     ]
    },
    {
     "name": "stdout",
     "output_type": "stream",
     "text": [
      "[['young', 'girl', 'with', 'pigtail', 'paint', 'outside', 'in', 'the', 'grass'], ['child', 'with', 'pigtail', 'paint', 'outside', 'in', 'the', 'grass'], ['woman', 'with', 'pigtail', 'paint', 'outside', 'in', 'the', 'grass'], ['little', 'girl', 'with', 'pigtail', 'paint', 'outside', 'in', 'the', 'grass']]\n"
     ]
    },
    {
     "name": "stderr",
     "output_type": "stream",
     "text": [
      "Processing Epoch 81:: 100%|██████████| 1303/1303 [05:08<00:00,  4.22it/s, loss=85.819]\n"
     ]
    },
    {
     "name": "stdout",
     "output_type": "stream",
     "text": [
      "[['young', 'girl', 'with', 'pigtail', 'paint', 'outside', 'in', 'the', 'grass'], ['little', 'girl', 'with', 'pigtail', 'paint', 'outside', 'in', 'the', 'grass'], ['woman', 'with', 'pigtail', 'paint', 'outside', 'in', 'the', 'grass'], ['young', 'girl', 'with', 'paint', 'outside', 'in', 'the', 'grass']]\n"
     ]
    },
    {
     "name": "stderr",
     "output_type": "stream",
     "text": [
      "Processing Epoch 82:: 100%|██████████| 1303/1303 [05:08<00:00,  4.23it/s, loss=85.743]\n"
     ]
    },
    {
     "name": "stdout",
     "output_type": "stream",
     "text": [
      "[['young', 'girl', 'with', 'pigtail', 'paint', 'outside', 'in', 'the', 'grass']]\n"
     ]
    },
    {
     "name": "stderr",
     "output_type": "stream",
     "text": [
      "Processing Epoch 83:: 100%|██████████| 1303/1303 [05:08<00:00,  4.22it/s, loss=85.747]\n"
     ]
    },
    {
     "name": "stdout",
     "output_type": "stream",
     "text": [
      "[['young', 'girl', 'with', 'pigtail', 'paint', 'outside', 'in', 'the', 'grass'], ['two', 'girl', 'with', 'pigtail', 'paint', 'outside', 'in', 'the', 'grass']]\n"
     ]
    },
    {
     "name": "stderr",
     "output_type": "stream",
     "text": [
      "Processing Epoch 84:: 100%|██████████| 1303/1303 [05:08<00:00,  4.22it/s, loss=85.761]\n"
     ]
    },
    {
     "name": "stdout",
     "output_type": "stream",
     "text": [
      "[['young', 'girl', 'with', 'pigtail', 'paint', 'outside', 'in', 'the', 'grass'], ['little', 'girl', 'with', 'pigtail', 'paint', 'outside', 'in', 'the', 'grass'], ['girl', 'with', 'pigtail', 'paint', 'outside', 'in', 'the', 'grass'], ['young', 'girl', 'with', 'pigtail', 'paint', 'outside']]\n"
     ]
    },
    {
     "name": "stderr",
     "output_type": "stream",
     "text": [
      "Processing Epoch 85:: 100%|██████████| 1303/1303 [05:07<00:00,  4.23it/s, loss=85.722]\n"
     ]
    },
    {
     "name": "stdout",
     "output_type": "stream",
     "text": [
      "[['young', 'girl', 'with', 'pigtail', 'paint', 'outside', 'in', 'the', 'grass']]\n"
     ]
    },
    {
     "name": "stderr",
     "output_type": "stream",
     "text": [
      "Processing Epoch 86:: 100%|██████████| 1303/1303 [05:07<00:00,  4.23it/s, loss=85.717]\n"
     ]
    },
    {
     "name": "stdout",
     "output_type": "stream",
     "text": [
      "[['young', 'girl', 'with', 'pigtail', 'paint', 'outside', 'in', 'the', 'grass']]\n"
     ]
    },
    {
     "name": "stderr",
     "output_type": "stream",
     "text": [
      "Processing Epoch 87:: 100%|██████████| 1303/1303 [05:08<00:00,  4.23it/s, loss=85.830]\n"
     ]
    },
    {
     "name": "stdout",
     "output_type": "stream",
     "text": [
      "[['young', 'girl', 'with', 'pigtail', 'paint', 'outside', 'in', 'the', 'grass'], ['young', 'child', 'with', 'pigtail', 'paint', 'outside', 'in', 'the', 'grass'], ['young', 'girl', 'with', 'pigtail', 'paint', 'outside', 'in', 'the', 'snow']]\n"
     ]
    },
    {
     "name": "stderr",
     "output_type": "stream",
     "text": [
      "Processing Epoch 88:: 100%|██████████| 1303/1303 [05:08<00:00,  4.23it/s, loss=85.798]\n"
     ]
    },
    {
     "name": "stdout",
     "output_type": "stream",
     "text": [
      "[['young', 'girl', 'with', 'pigtail', 'paint', 'outside', 'in', 'the', 'grass'], ['young', 'girl', 'with', 'pigtail', 'paint', 'outside'], ['two', 'young', 'girl', 'with', 'pigtail', 'paint', 'outside'], ['young', 'girl', 'with', 'colorful', 'shirt', 'and', 'weave', 'outside'], ['young', 'girl', 'with', 'colorful', 'shirt', 'and', 'blanket']]\n"
     ]
    },
    {
     "name": "stderr",
     "output_type": "stream",
     "text": [
      "Processing Epoch 89:: 100%|██████████| 1303/1303 [05:08<00:00,  4.23it/s, loss=85.718]\n"
     ]
    },
    {
     "name": "stdout",
     "output_type": "stream",
     "text": [
      "[['young', 'girl', 'with', 'pigtail', 'paint', 'outside', 'in', 'the', 'grass'], ['two', 'girl', 'with', 'pigtail', 'paint', 'outside', 'in', 'the', 'grass'], ['two', 'girl', 'be', 'sit', 'in', 'a', 'field', 'of', 'grass']]\n"
     ]
    },
    {
     "name": "stderr",
     "output_type": "stream",
     "text": [
      "Processing Epoch 90:: 100%|██████████| 1303/1303 [05:08<00:00,  4.23it/s, loss=85.830]\n"
     ]
    },
    {
     "name": "stdout",
     "output_type": "stream",
     "text": [
      "[['young', 'girl', 'with', 'pigtail', 'paint', 'outside', 'in', 'the', 'grass'], ['a', 'young', 'girl', 'wear', 'a', 'colorful', 'shirt', 'be', 'swing'], ['young', 'girl', 'with', 'pigtail', 'paint', 'outside', 'in', 'a', 'grass']]\n"
     ]
    },
    {
     "name": "stderr",
     "output_type": "stream",
     "text": [
      "Processing Epoch 91:: 100%|██████████| 1303/1303 [05:08<00:00,  4.23it/s, loss=85.769]\n"
     ]
    },
    {
     "name": "stdout",
     "output_type": "stream",
     "text": [
      "[['young', 'girl', 'with', 'pigtail', 'paint', 'outside', 'in', 'the', 'grass']]\n"
     ]
    },
    {
     "name": "stderr",
     "output_type": "stream",
     "text": [
      "Processing Epoch 92:: 100%|██████████| 1303/1303 [05:08<00:00,  4.23it/s, loss=85.793]\n"
     ]
    },
    {
     "name": "stdout",
     "output_type": "stream",
     "text": [
      "[['young', 'girl', 'with', 'pigtail', 'paint', 'outside', 'in', 'the', 'grass'], ['young', 'girl', 'wear', 'pigtail', 'paint', 'outside', 'in', 'the', 'grass']]\n"
     ]
    },
    {
     "name": "stderr",
     "output_type": "stream",
     "text": [
      "Processing Epoch 93:: 100%|██████████| 1303/1303 [05:08<00:00,  4.23it/s, loss=85.737]\n"
     ]
    },
    {
     "name": "stdout",
     "output_type": "stream",
     "text": [
      "[['young', 'girl', 'with', 'pigtail', 'paint', 'outside', 'in', 'the', 'grass'], ['little', 'girl', 'with', 'pigtail', 'paint', 'outside', 'in', 'the', 'grass']]\n"
     ]
    },
    {
     "name": "stderr",
     "output_type": "stream",
     "text": [
      "Processing Epoch 94:: 100%|██████████| 1303/1303 [05:08<00:00,  4.23it/s, loss=85.789]\n"
     ]
    },
    {
     "name": "stdout",
     "output_type": "stream",
     "text": [
      "[['young', 'girl', 'with', 'pigtail', 'paint', 'outside', 'in', 'the', 'grass']]\n"
     ]
    },
    {
     "name": "stderr",
     "output_type": "stream",
     "text": [
      "Processing Epoch 95:: 100%|██████████| 1303/1303 [05:08<00:00,  4.22it/s, loss=85.805]\n"
     ]
    },
    {
     "name": "stdout",
     "output_type": "stream",
     "text": [
      "[['young', 'girl', 'with', 'pigtail', 'paint', 'outside', 'in', 'the', 'grass'], ['girl', 'with', 'pigtail', 'paint', 'outside', 'in', 'the', 'grass']]\n"
     ]
    },
    {
     "name": "stderr",
     "output_type": "stream",
     "text": [
      "Processing Epoch 96:: 100%|██████████| 1303/1303 [05:08<00:00,  4.23it/s, loss=85.871]\n"
     ]
    },
    {
     "name": "stdout",
     "output_type": "stream",
     "text": [
      "[['young', 'girl', 'with', 'pigtail', 'paint', 'outside', 'in', 'the', 'grass'], ['young', 'child', 'with', 'pigtail', 'paint', 'outside', 'in', 'the', 'grass']]\n"
     ]
    },
    {
     "name": "stderr",
     "output_type": "stream",
     "text": [
      "Processing Epoch 97:: 100%|██████████| 1303/1303 [05:08<00:00,  4.22it/s, loss=85.751]\n"
     ]
    },
    {
     "name": "stdout",
     "output_type": "stream",
     "text": [
      "[['young', 'girl', 'with', 'pigtail', 'paint', 'outside', 'in', 'the', 'grass']]\n"
     ]
    },
    {
     "name": "stderr",
     "output_type": "stream",
     "text": [
      "Processing Epoch 98:: 100%|██████████| 1303/1303 [05:08<00:00,  4.23it/s, loss=85.743]\n"
     ]
    },
    {
     "name": "stdout",
     "output_type": "stream",
     "text": [
      "[['young', 'girl', 'with', 'pigtail', 'paint', 'outside', 'in', 'the', 'grass']]\n"
     ]
    },
    {
     "name": "stderr",
     "output_type": "stream",
     "text": [
      "Processing Epoch 99:: 100%|██████████| 1303/1303 [05:09<00:00,  4.21it/s, loss=85.752]\n"
     ]
    },
    {
     "name": "stdout",
     "output_type": "stream",
     "text": [
      "[['young', 'girl', 'with', 'pigtail', 'paint', 'outside', 'in', 'the', 'grass'], ['girl', 'with', 'pigtail', 'paint', 'outside', 'in', 'the', 'grass']]\n"
     ]
    },
    {
     "name": "stderr",
     "output_type": "stream",
     "text": [
      "Processing Epoch 100:: 100%|██████████| 1303/1303 [05:07<00:00,  4.24it/s, loss=85.839]\n"
     ]
    },
    {
     "name": "stdout",
     "output_type": "stream",
     "text": [
      "[['young', 'girl', 'with', 'pigtail', 'paint', 'outside', 'in', 'the', 'grass']]\n"
     ]
    }
   ],
   "source": [
    "run(embed,transformer)"
   ]
  },
  {
   "cell_type": "code",
   "execution_count": null,
   "id": "6712c2f4",
   "metadata": {
    "papermill": {
     "duration": 21.736226,
     "end_time": "2024-01-29T21:36:45.586996",
     "exception": false,
     "start_time": "2024-01-29T21:36:23.850770",
     "status": "completed"
    },
    "tags": []
   },
   "outputs": [],
   "source": []
  },
  {
   "cell_type": "code",
   "execution_count": null,
   "id": "ba1ca3f9",
   "metadata": {
    "papermill": {
     "duration": 21.481478,
     "end_time": "2024-01-29T21:37:28.552907",
     "exception": false,
     "start_time": "2024-01-29T21:37:07.071429",
     "status": "completed"
    },
    "tags": []
   },
   "outputs": [],
   "source": []
  }
 ],
 "metadata": {
  "kaggle": {
   "accelerator": "gpu",
   "dataSources": [
    {
     "datasetId": 3231714,
     "sourceId": 5620362,
     "sourceType": "datasetVersion"
    }
   ],
   "dockerImageVersionId": 30635,
   "isGpuEnabled": true,
   "isInternetEnabled": true,
   "language": "python",
   "sourceType": "notebook"
  },
  "kernelspec": {
   "display_name": "Python 3",
   "language": "python",
   "name": "python3"
  },
  "language_info": {
   "codemirror_mode": {
    "name": "ipython",
    "version": 3
   },
   "file_extension": ".py",
   "mimetype": "text/x-python",
   "name": "python",
   "nbconvert_exporter": "python",
   "pygments_lexer": "ipython3",
   "version": "3.10.12"
  },
  "papermill": {
   "default_parameters": {},
   "duration": 31393.04877,
   "end_time": "2024-01-29T21:37:52.568743",
   "environment_variables": {},
   "exception": null,
   "input_path": "__notebook__.ipynb",
   "output_path": "__notebook__.ipynb",
   "parameters": {},
   "start_time": "2024-01-29T12:54:39.519973",
   "version": "2.4.0"
  }
 },
 "nbformat": 4,
 "nbformat_minor": 5
}
